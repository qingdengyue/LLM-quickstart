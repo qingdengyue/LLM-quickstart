{
 "cells": [
  {
   "cell_type": "code",
   "execution_count": 1,
   "metadata": {},
   "outputs": [
    {
     "data": {
      "application/vnd.jupyter.widget-view+json": {
       "model_id": "e6891acd0c914a668eb4bcf4b7c32ddf",
       "version_major": 2,
       "version_minor": 0
      },
      "text/plain": [
       "Loading checkpoint shards:   0%|          | 0/2 [00:00<?, ?it/s]"
      ]
     },
     "metadata": {},
     "output_type": "display_data"
    }
   ],
   "source": [
    "import os\n",
    "os.environ['HF_ENDPOINT'] = 'https://hf-mirror.com'\n",
    "os.environ['HF_DATASETS_CACHE']='/root/autodl-tmp/hfcache/dc'\n",
    "os.environ['HUGGINGFACE_HUB_CACHE']='/root/autodl-tmp/hfcache/hc'\n",
    "import torch\n",
    "import torch.nn as nn\n",
    "import bitsandbytes as bnb\n",
    "from transformers import GPT2Tokenizer, AutoConfig, OPTForCausalLM\n",
    "\n",
    "model_id = \"facebook/opt-6.7b\"\n",
    "\n",
    "model = OPTForCausalLM.from_pretrained(model_id, load_in_8bit=True)\n",
    "\n",
    "tokenizer = GPT2Tokenizer.from_pretrained(model_id)"
   ]
  }
 ],
 "metadata": {
  "kernelspec": {
   "display_name": "llm-quickstart2",
   "language": "python",
   "name": "llm-quickstart2"
  },
  "language_info": {
   "codemirror_mode": {
    "name": "ipython",
    "version": 3
   },
   "file_extension": ".py",
   "mimetype": "text/x-python",
   "name": "python",
   "nbconvert_exporter": "python",
   "pygments_lexer": "ipython3",
   "version": "3.11.7"
  }
 },
 "nbformat": 4,
 "nbformat_minor": 4
}

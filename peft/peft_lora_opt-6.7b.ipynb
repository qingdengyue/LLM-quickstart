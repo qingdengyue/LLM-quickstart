{
 "cells": [
  {
   "cell_type": "code",
   "execution_count": null,
   "metadata": {},
   "outputs": [],
   "source": [
    "import os\n",
    "os.environ['HF_ENDPOINT'] = 'https://hf-mirror.com'\n",
    "os.environ['HF_DATASETS_CACHE']='/root/autodl-tmp/hfcache/dc'\n",
    "os.environ['HUGGINGFACE_HUB_CACHE']='/root/autodl-tmp/hfcache/hc'\n",
    "import torch\n",
    "import torch.nn as nn\n",
    "import bitsandbytes as bnb\n",
    "from transformers import GPT2Tokenizer, AutoConfig, OPTForCausalLM\n",
    "\n",
    "model_id = \"facebook/opt-6.7b\"\n",
    "\n",
    "model = OPTForCausalLM.from_pretrained(model_id, load_in_8bit=True)\n",
    "\n",
    "tokenizer = GPT2Tokenizer.from_pretrained(model_id)"
   ]
  }
 ],
 "metadata": {
  "language_info": {
   "name": "python"
  }
 },
 "nbformat": 4,
 "nbformat_minor": 2
}

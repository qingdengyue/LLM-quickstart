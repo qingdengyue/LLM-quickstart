{
 "cells": [
  {
   "cell_type": "code",
   "execution_count": 1,
   "metadata": {},
   "outputs": [],
   "source": [
    "import os\n",
    "os.environ['HF_ENDPOINT'] = 'https://hf-mirror.com'\n",
    "os.environ['HF_HOME']='/root/autodl-tmp/hfcache/'\n",
    "os.environ['HF_DATASETS_CACHE']='/root/autodl-tmp/hfcache/dc'\n",
    "os.environ['HF_ASSETS_CACHE']='/root/autodl-tmp/hfcache/dc'\n",
    "os.environ['HUGGINGFACE_HUB_CACHE']='/root/autodl-tmp/hfcache/hc'\n",
    "os.environ['HF_HUB_VERBOSITY']='debug'\n",
    "squad_v2=False\n",
    "model_checkpoint=\"distilbert-base-uncased\"\n",
    "batch_size=16\n",
    "from datasets import load_dataset\n",
    "datasets=load_dataset(\"squad_v2\" if squad_v2 else \"squad\")\n",
    "datasets\n",
    "datasets[\"train\"][0]\n",
    "\n",
    "\n",
    "from datasets import  ClassLabel,Sequence\n",
    "import  random\n",
    "import pandas as pd\n",
    "from  IPython.display import  display,HTML\n",
    "\n",
    "def show_random_elements(dataset,num_examples=10):\n",
    "    assert num_examples<=len(dataset),\"Can't pick more elements than there are in the dataset\"\n",
    "    picks=[]\n",
    "    for _ in range(num_examples):\n",
    "        pick=random.randint(0,len(dataset)-1)\n",
    "        while pick in picks:\n",
    "            pick=random.randint(0,len(dataset)-1)\n",
    "        picks.append(pick)\n",
    "        \n",
    "        df=pd.DataFrame(dataset[pick])\n",
    "        \n",
    "        for column,typ in dataset.features.items():\n",
    "            if isinstance(typ,ClassLabel):\n",
    "                df[column]=df[column].transformer(lambda i:typ.names[i])\n",
    "            \n",
    "            elif isinstance(typ,Sequence) and isinstance(typ.feature,ClassLabel):\n",
    "                df[column]=df[column].transform(lambda x:[typ.feature.names[i] for i in x])\n",
    "        display(HTML(df.to_html()))\n",
    "    \n",
    "\n",
    "show_random_elements(datasets[\"train\"])\n",
    "\n",
    "\n",
    "from  transformers import AutoTokenizer\n",
    "tokenizer\n"
   ]
  }
 ],
 "metadata": {
  "kernelspec": {
   "display_name": "Python 3",
   "language": "python",
   "name": "python3"
  },
  "language_info": {
   "codemirror_mode": {
    "name": "ipython",
    "version": 3
   },
   "file_extension": ".py",
   "mimetype": "text/x-python",
   "name": "python",
   "nbconvert_exporter": "python",
   "pygments_lexer": "ipython3",
   "version": "3.11.7"
  }
 },
 "nbformat": 4,
 "nbformat_minor": 2
}

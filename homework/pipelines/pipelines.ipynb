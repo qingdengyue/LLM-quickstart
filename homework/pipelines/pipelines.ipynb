{
 "cells": [
  {
   "cell_type": "code",
   "execution_count": 1,
   "metadata": {},
   "outputs": [
    {
     "name": "stderr",
     "output_type": "stream",
     "text": [
      "No model was supplied, defaulted to distilbert/distilbert-base-uncased-finetuned-sst-2-english and revision af0f99b (https://hf-mirror.com/distilbert/distilbert-base-uncased-finetuned-sst-2-english).\n",
      "Using a pipeline without specifying a model name and revision in production is not recommended.\n",
      "Request 75866001-319f-43c0-ad5a-bd4f0f6c452c: HEAD https://hf-mirror.com/distilbert/distilbert-base-uncased-finetuned-sst-2-english/resolve/main/config.json (authenticated: False)\n",
      "downloading https://hf-mirror.com/distilbert/distilbert-base-uncased-finetuned-sst-2-english/resolve/main/config.json to /root/autodl-tmp/hfcache/hc/tmpn3zm7k76\n",
      "Request 7457d945-59d5-440d-ae5e-a5ab06d79513: GET https://hf-mirror.com/distilbert/distilbert-base-uncased-finetuned-sst-2-english/resolve/main/config.json (authenticated: False)\n"
     ]
    },
    {
     "data": {
      "application/vnd.jupyter.widget-view+json": {
       "model_id": "c21892ab32ee4ab49aacbb008cac638a",
       "version_major": 2,
       "version_minor": 0
      },
      "text/plain": [
       "config.json:   0%|          | 0.00/376 [00:00<?, ?B/s]"
      ]
     },
     "metadata": {},
     "output_type": "display_data"
    },
    {
     "name": "stderr",
     "output_type": "stream",
     "text": [
      "Storing https://hf-mirror.com/distilbert/distilbert-base-uncased-finetuned-sst-2-english/resolve/main/config.json in cache at /root/autodl-tmp/hfcache/hc/models--distilbert--distilbert-base-uncased-finetuned-sst-2-english/blobs/b57fe5dfcb8ec3f9bab35ed427c3434e3c7dd1ba\n",
      "Creating pointer from ../../blobs/b57fe5dfcb8ec3f9bab35ed427c3434e3c7dd1ba to /root/autodl-tmp/hfcache/hc/models--distilbert--distilbert-base-uncased-finetuned-sst-2-english/snapshots/714eb0fa89d2f80546fda750413ed43d93601a13/config.json\n",
      "Request b864c566-bfc5-458b-9c4b-36f2ca4cb394: HEAD https://hf-mirror.com/distilbert/distilbert-base-uncased-finetuned-sst-2-english/resolve/main/adapter_config.json (authenticated: False)\n",
      "Request 894b53bf-5ad8-4e2e-b6fb-eb1e64e61261: HEAD https://hf-mirror.com/distilbert/distilbert-base-uncased-finetuned-sst-2-english/resolve/main/model.safetensors (authenticated: False)\n",
      "downloading https://hf-mirror.com/distilbert/distilbert-base-uncased-finetuned-sst-2-english/resolve/main/model.safetensors to /root/autodl-tmp/hfcache/hc/tmp2ntu47e2\n",
      "Request 39a42464-0651-4073-8f00-a7f5d0cee6a2: GET https://cdn-lfs.hf-mirror.com/distilbert-base-uncased-finetuned-sst-2-english/7c3919835e442510166d267fe7cbe847e0c51cd26d9ba07b89a57b952b49b8aa?response-content-disposition=attachment%3B+filename*%3DUTF-8%27%27model.safetensors%3B+filename%3D%22model.safetensors%22%3B&Expires=1712748020&Policy=eyJTdGF0ZW1lbnQiOlt7IkNvbmRpdGlvbiI6eyJEYXRlTGVzc1RoYW4iOnsiQVdTOkVwb2NoVGltZSI6MTcxMjc0ODAyMH19LCJSZXNvdXJjZSI6Imh0dHBzOi8vY2RuLWxmcy5odWdnaW5nZmFjZS5jby9kaXN0aWxiZXJ0LWJhc2UtdW5jYXNlZC1maW5ldHVuZWQtc3N0LTItZW5nbGlzaC83YzM5MTk4MzVlNDQyNTEwMTY2ZDI2N2ZlN2NiZTg0N2UwYzUxY2QyNmQ5YmEwN2I4OWE1N2I5NTJiNDliOGFhP3Jlc3BvbnNlLWNvbnRlbnQtZGlzcG9zaXRpb249KiJ9XX0_&Signature=yy8qrPu4pR8sQXj2~V~hRnbkyu9WTtiGer7tvUSM3g8eF~eip-HvEbviANj2-XaiLnXpsLhgd4-8f1TH5FSw-kfDWLfTU4gSZcUhLx~XTAxHHASdy7rgVtr5FodKASnFIqMWaTBgf6muVoFDdmhozjUIXMfZU0gWnlgh7ecsISgTuxtp7gq9BezKlMhyJs3gVNEfR8CVc7Xe1YJx-IOrvbPeDvyOHzJ-3HCfzNAYrKKG-xps6KkoOHWlCUwY8cNmAuMnnhLMInf3ct8MCDntiDD5Zqjqhgv1LMyggaVLm2wwOGFZCGggR9AWLPsevtRDr4i6PCaPefk~1zZJ8zUALA__&Key-Pair-Id=KVTP0A1DKRTAX (authenticated: False)\n"
     ]
    },
    {
     "data": {
      "application/vnd.jupyter.widget-view+json": {
       "model_id": "bfaecc69e420442d99995b8602106244",
       "version_major": 2,
       "version_minor": 0
      },
      "text/plain": [
       "model.safetensors:   0%|          | 0.00/268M [00:00<?, ?B/s]"
      ]
     },
     "metadata": {},
     "output_type": "display_data"
    },
    {
     "name": "stderr",
     "output_type": "stream",
     "text": [
      "Storing https://hf-mirror.com/distilbert/distilbert-base-uncased-finetuned-sst-2-english/resolve/main/model.safetensors in cache at /root/autodl-tmp/hfcache/hc/models--distilbert--distilbert-base-uncased-finetuned-sst-2-english/blobs/7c3919835e442510166d267fe7cbe847e0c51cd26d9ba07b89a57b952b49b8aa\n",
      "Creating pointer from ../../blobs/7c3919835e442510166d267fe7cbe847e0c51cd26d9ba07b89a57b952b49b8aa to /root/autodl-tmp/hfcache/hc/models--distilbert--distilbert-base-uncased-finetuned-sst-2-english/snapshots/714eb0fa89d2f80546fda750413ed43d93601a13/model.safetensors\n",
      "Request ad8836c4-43ba-461b-9b54-6757f8775b8e: HEAD https://hf-mirror.com/distilbert/distilbert-base-uncased-finetuned-sst-2-english/resolve/main/tokenizer_config.json (authenticated: False)\n",
      "downloading https://hf-mirror.com/distilbert/distilbert-base-uncased-finetuned-sst-2-english/resolve/main/tokenizer_config.json to /root/autodl-tmp/hfcache/hc/tmpyrwdserg\n",
      "Request 254542bf-1902-4636-87c3-48ceb011fb87: GET https://hf-mirror.com/distilbert/distilbert-base-uncased-finetuned-sst-2-english/resolve/main/tokenizer_config.json (authenticated: False)\n"
     ]
    },
    {
     "data": {
      "application/vnd.jupyter.widget-view+json": {
       "model_id": "f7bc862ba254476ab1ca242753f3dfef",
       "version_major": 2,
       "version_minor": 0
      },
      "text/plain": [
       "tokenizer_config.json:   0%|          | 0.00/48.0 [00:00<?, ?B/s]"
      ]
     },
     "metadata": {},
     "output_type": "display_data"
    },
    {
     "name": "stderr",
     "output_type": "stream",
     "text": [
      "Storing https://hf-mirror.com/distilbert/distilbert-base-uncased-finetuned-sst-2-english/resolve/main/tokenizer_config.json in cache at /root/autodl-tmp/hfcache/hc/models--distilbert--distilbert-base-uncased-finetuned-sst-2-english/blobs/3ed34255a7cb8e6706a8bb21993836e99e7b959f\n",
      "Creating pointer from ../../blobs/3ed34255a7cb8e6706a8bb21993836e99e7b959f to /root/autodl-tmp/hfcache/hc/models--distilbert--distilbert-base-uncased-finetuned-sst-2-english/snapshots/714eb0fa89d2f80546fda750413ed43d93601a13/tokenizer_config.json\n",
      "Request 83bde656-a83c-4d89-a361-e641e9b1aff2: HEAD https://hf-mirror.com/distilbert/distilbert-base-uncased-finetuned-sst-2-english/resolve/main/vocab.txt (authenticated: False)\n",
      "downloading https://hf-mirror.com/distilbert/distilbert-base-uncased-finetuned-sst-2-english/resolve/main/vocab.txt to /root/autodl-tmp/hfcache/hc/tmpupxyvkke\n",
      "Request e02867db-7418-4f50-ab68-833e88c8f0b5: GET https://hf-mirror.com/distilbert/distilbert-base-uncased-finetuned-sst-2-english/resolve/main/vocab.txt (authenticated: False)\n"
     ]
    },
    {
     "data": {
      "application/vnd.jupyter.widget-view+json": {
       "model_id": "fb74c3a7ee4c458a9019948f53647393",
       "version_major": 2,
       "version_minor": 0
      },
      "text/plain": [
       "vocab.txt: 0.00B [00:00, ?B/s]"
      ]
     },
     "metadata": {},
     "output_type": "display_data"
    },
    {
     "name": "stderr",
     "output_type": "stream",
     "text": [
      "Storing https://hf-mirror.com/distilbert/distilbert-base-uncased-finetuned-sst-2-english/resolve/main/vocab.txt in cache at /root/autodl-tmp/hfcache/hc/models--distilbert--distilbert-base-uncased-finetuned-sst-2-english/blobs/fb140275c155a9c7c5a3b3e0e77a9e839594a938\n",
      "Creating pointer from ../../blobs/fb140275c155a9c7c5a3b3e0e77a9e839594a938 to /root/autodl-tmp/hfcache/hc/models--distilbert--distilbert-base-uncased-finetuned-sst-2-english/snapshots/714eb0fa89d2f80546fda750413ed43d93601a13/vocab.txt\n",
      "Request 16a44453-c5c2-4de9-96e3-6eb9deea8afc: HEAD https://hf-mirror.com/distilbert/distilbert-base-uncased-finetuned-sst-2-english/resolve/main/tokenizer.json (authenticated: False)\n",
      "Request e258ae63-d4f6-4a31-ae75-f6f8d4144572: HEAD https://hf-mirror.com/distilbert/distilbert-base-uncased-finetuned-sst-2-english/resolve/main/added_tokens.json (authenticated: False)\n",
      "Request e9b64422-695f-4542-80f0-2dedfa96ab7a: HEAD https://hf-mirror.com/distilbert/distilbert-base-uncased-finetuned-sst-2-english/resolve/main/special_tokens_map.json (authenticated: False)\n"
     ]
    },
    {
     "data": {
      "text/plain": [
       "[{'label': 'NEGATIVE', 'score': 0.8957212567329407}]"
      ]
     },
     "execution_count": 1,
     "metadata": {},
     "output_type": "execute_result"
    }
   ],
   "source": [
    "from transformers import pipeline\n",
    "\n",
    "# 仅指定任务时，使用默认模型（不推荐）\n",
    "pipe = pipeline(\"sentiment-analysis\")\n",
    "pipe(\"今儿上海可真冷啊\")"
   ]
  },
  {
   "cell_type": "code",
   "execution_count": 2,
   "metadata": {},
   "outputs": [
    {
     "data": {
      "text/plain": [
       "[{'label': 'NEGATIVE', 'score': 0.9238728880882263}]"
      ]
     },
     "execution_count": 2,
     "metadata": {},
     "output_type": "execute_result"
    }
   ],
   "source": [
    "pipe(\"我觉得这家店蒜泥白肉的味道一般\")"
   ]
  },
  {
   "cell_type": "code",
   "execution_count": 3,
   "metadata": {},
   "outputs": [
    {
     "data": {
      "text/plain": [
       "[{'label': 'NEGATIVE', 'score': 0.8578681349754333}]"
      ]
     },
     "execution_count": 3,
     "metadata": {},
     "output_type": "execute_result"
    }
   ],
   "source": [
    "pipe(\"你学东西真的好快，理论课一讲就明白了\")"
   ]
  },
  {
   "cell_type": "code",
   "execution_count": 4,
   "metadata": {},
   "outputs": [
    {
     "data": {
      "text/plain": [
       "[{'label': 'POSITIVE', 'score': 0.9961802959442139}]"
      ]
     },
     "execution_count": 4,
     "metadata": {},
     "output_type": "execute_result"
    }
   ],
   "source": [
    "pipe(\"You learn things really quickly. You understand the theory class as soon as it is taught.\")"
   ]
  },
  {
   "cell_type": "code",
   "execution_count": 5,
   "metadata": {},
   "outputs": [
    {
     "data": {
      "text/plain": [
       "[{'label': 'NEGATIVE', 'score': 0.9995032548904419}]"
      ]
     },
     "execution_count": 5,
     "metadata": {},
     "output_type": "execute_result"
    }
   ],
   "source": [
    "pipe(\"Today Shanghai is really cold.\")"
   ]
  },
  {
   "cell_type": "code",
   "execution_count": 6,
   "metadata": {},
   "outputs": [
    {
     "data": {
      "text/plain": [
       "[{'label': 'NEGATIVE', 'score': 0.9995032548904419},\n",
       " {'label': 'NEGATIVE', 'score': 0.9984821677207947},\n",
       " {'label': 'POSITIVE', 'score': 0.9961802959442139}]"
      ]
     },
     "execution_count": 6,
     "metadata": {},
     "output_type": "execute_result"
    }
   ],
   "source": [
    "text_list = [\n",
    "    \"Today Shanghai is really cold.\",\n",
    "    \"I think the taste of the garlic mashed pork in this store is average.\",\n",
    "    \"You learn things really quickly. You understand the theory class as soon as it is taught.\"\n",
    "]\n",
    "\n",
    "pipe(text_list)\n",
    "\n",
    "pipe(text_list)"
   ]
  },
  {
   "cell_type": "markdown",
   "metadata": {},
   "source": [
    "## Natural Language Processing(NLP)"
   ]
  },
  {
   "cell_type": "markdown",
   "metadata": {},
   "source": [
    "### Token Classification"
   ]
  },
  {
   "cell_type": "code",
   "execution_count": 27,
   "metadata": {},
   "outputs": [
    {
     "name": "stderr",
     "output_type": "stream",
     "text": [
      "Request a4f1e782-d48a-44af-9631-950be8b4c515: HEAD https://hf-mirror.com/dslim/distilbert-NER/resolve/main/config.json (authenticated: False)\n",
      "downloading https://hf-mirror.com/dslim/distilbert-NER/resolve/main/config.json to /root/autodl-tmp/hfcache/hc/tmplitiz0rq\n",
      "Request 51adc7b7-50f9-49ed-8edd-7a2823799136: GET https://hf-mirror.com/dslim/distilbert-NER/resolve/main/config.json (authenticated: False)\n"
     ]
    },
    {
     "data": {
      "application/vnd.jupyter.widget-view+json": {
       "model_id": "930f7f31d2674fcb9cd743e254042481",
       "version_major": 2,
       "version_minor": 0
      },
      "text/plain": [
       "config.json:   0%|          | 0.00/466 [00:00<?, ?B/s]"
      ]
     },
     "metadata": {},
     "output_type": "display_data"
    },
    {
     "name": "stderr",
     "output_type": "stream",
     "text": [
      "Storing https://hf-mirror.com/dslim/distilbert-NER/resolve/main/config.json in cache at /root/autodl-tmp/hfcache/hc/models--dslim--distilbert-NER/blobs/73d4b30b056ba2348a8d6bef1c7a47255e83e99a\n",
      "Creating pointer from ../../blobs/73d4b30b056ba2348a8d6bef1c7a47255e83e99a to /root/autodl-tmp/hfcache/hc/models--dslim--distilbert-NER/snapshots/2be6ceafc6441e2057ac2324fa8bd548f209b52b/config.json\n",
      "Request 9565ad3d-3271-489f-af13-cdb5db3d7c7b: HEAD https://hf-mirror.com/dslim/distilbert-NER/resolve/main/adapter_config.json (authenticated: False)\n",
      "Request 2af8a447-9fd4-4289-af22-737146770bba: HEAD https://hf-mirror.com/dslim/distilbert-NER/resolve/main/model.safetensors (authenticated: False)\n",
      "downloading https://hf-mirror.com/dslim/distilbert-NER/resolve/main/model.safetensors to /root/autodl-tmp/hfcache/hc/tmpyxnwayzg\n",
      "Request ac7cbae8-d451-4227-9540-5eb3caf07294: GET https://cdn-lfs-us-1.hf-mirror.com/repos/b2/4a/b24af2d0fbd1565c3ee184c69c1c793c654aa45e0e1719cc1fd02f9530aba840/235ecd699f650ca36513b122d11ce5a80339be1388f06c33c2278368b99914e1?response-content-disposition=attachment%3B+filename*%3DUTF-8%27%27model.safetensors%3B+filename%3D%22model.safetensors%22%3B&Expires=1712750490&Policy=eyJTdGF0ZW1lbnQiOlt7IkNvbmRpdGlvbiI6eyJEYXRlTGVzc1RoYW4iOnsiQVdTOkVwb2NoVGltZSI6MTcxMjc1MDQ5MH19LCJSZXNvdXJjZSI6Imh0dHBzOi8vY2RuLWxmcy11cy0xLmh1Z2dpbmdmYWNlLmNvL3JlcG9zL2IyLzRhL2IyNGFmMmQwZmJkMTU2NWMzZWUxODRjNjljMWM3OTNjNjU0YWE0NWUwZTE3MTljYzFmZDAyZjk1MzBhYmE4NDAvMjM1ZWNkNjk5ZjY1MGNhMzY1MTNiMTIyZDExY2U1YTgwMzM5YmUxMzg4ZjA2YzMzYzIyNzgzNjhiOTk5MTRlMT9yZXNwb25zZS1jb250ZW50LWRpc3Bvc2l0aW9uPSoifV19&Signature=O8-MZo7KU30vLooGOPPlm~znIZ4NTXQXl2fCCbV6isKHFpqXsdBYCcV0zr1asPdxz4r4e2hHUsde4cXo5HFnY~rhduBC82yhM1oWaXdmtouIk6fKIooFaYbvDDGqyaEXc11K11wTq55o-XN1P6J-sImLzxEG49HP9nzTz3TnzTHsf05~FmAOA~ugZTFsHIG3DIcON~fGq2oT2Q-Gmv9f4HC487RTy9fc8t8Xy0yEoBBxOtPjxtlaiwe8QjXSN8UVqywINB1usBU39NcK5Z0jcOVFwtCME-WuJMgaSbl1QACemQWlbxUS7wm~ahxOYU~bFKXrRi5DyjEua5FId8bUDg__&Key-Pair-Id=KCD77M1F0VK2B (authenticated: False)\n"
     ]
    },
    {
     "data": {
      "application/vnd.jupyter.widget-view+json": {
       "model_id": "3b7dcb6299314a39a459204fe03dc93e",
       "version_major": 2,
       "version_minor": 0
      },
      "text/plain": [
       "model.safetensors:   0%|          | 0.00/261M [00:00<?, ?B/s]"
      ]
     },
     "metadata": {},
     "output_type": "display_data"
    },
    {
     "name": "stderr",
     "output_type": "stream",
     "text": [
      "Storing https://hf-mirror.com/dslim/distilbert-NER/resolve/main/model.safetensors in cache at /root/autodl-tmp/hfcache/hc/models--dslim--distilbert-NER/blobs/235ecd699f650ca36513b122d11ce5a80339be1388f06c33c2278368b99914e1\n",
      "Creating pointer from ../../blobs/235ecd699f650ca36513b122d11ce5a80339be1388f06c33c2278368b99914e1 to /root/autodl-tmp/hfcache/hc/models--dslim--distilbert-NER/snapshots/2be6ceafc6441e2057ac2324fa8bd548f209b52b/model.safetensors\n",
      "Request caa37529-f60c-4bbe-91af-1b5705f1eee2: HEAD https://hf-mirror.com/dslim/distilbert-NER/resolve/main/tokenizer_config.json (authenticated: False)\n",
      "downloading https://hf-mirror.com/dslim/distilbert-NER/resolve/main/tokenizer_config.json to /root/autodl-tmp/hfcache/hc/tmpb7ybdupx\n",
      "Request 8ff3bdc8-7a04-4be1-87c1-3199de347510: GET https://hf-mirror.com/dslim/distilbert-NER/resolve/main/tokenizer_config.json (authenticated: False)\n"
     ]
    },
    {
     "data": {
      "application/vnd.jupyter.widget-view+json": {
       "model_id": "284792b55af745eeae8d89235de603d2",
       "version_major": 2,
       "version_minor": 0
      },
      "text/plain": [
       "tokenizer_config.json:   0%|          | 0.00/317 [00:00<?, ?B/s]"
      ]
     },
     "metadata": {},
     "output_type": "display_data"
    },
    {
     "name": "stderr",
     "output_type": "stream",
     "text": [
      "Storing https://hf-mirror.com/dslim/distilbert-NER/resolve/main/tokenizer_config.json in cache at /root/autodl-tmp/hfcache/hc/models--dslim--distilbert-NER/blobs/91498bfdd0faa1f7bf8dafe83782cb2edef3118d\n",
      "Creating pointer from ../../blobs/91498bfdd0faa1f7bf8dafe83782cb2edef3118d to /root/autodl-tmp/hfcache/hc/models--dslim--distilbert-NER/snapshots/2be6ceafc6441e2057ac2324fa8bd548f209b52b/tokenizer_config.json\n",
      "Request e036a98e-6456-4e80-bf52-75df242de902: HEAD https://hf-mirror.com/dslim/distilbert-NER/resolve/main/vocab.txt (authenticated: False)\n",
      "downloading https://hf-mirror.com/dslim/distilbert-NER/resolve/main/vocab.txt to /root/autodl-tmp/hfcache/hc/tmp0dfmigsn\n",
      "Request 872b18db-32fd-4dd2-b9fd-21e15b1cd7ad: GET https://hf-mirror.com/dslim/distilbert-NER/resolve/main/vocab.txt (authenticated: False)\n"
     ]
    },
    {
     "data": {
      "application/vnd.jupyter.widget-view+json": {
       "model_id": "1c2e8dd498784e0d9f0c10cc698fed5d",
       "version_major": 2,
       "version_minor": 0
      },
      "text/plain": [
       "vocab.txt: 0.00B [00:00, ?B/s]"
      ]
     },
     "metadata": {},
     "output_type": "display_data"
    },
    {
     "name": "stderr",
     "output_type": "stream",
     "text": [
      "Storing https://hf-mirror.com/dslim/distilbert-NER/resolve/main/vocab.txt in cache at /root/autodl-tmp/hfcache/hc/models--dslim--distilbert-NER/blobs/2ea941cc79a6f3d7985ca6991ef4f67dad62af04\n",
      "Creating pointer from ../../blobs/2ea941cc79a6f3d7985ca6991ef4f67dad62af04 to /root/autodl-tmp/hfcache/hc/models--dslim--distilbert-NER/snapshots/2be6ceafc6441e2057ac2324fa8bd548f209b52b/vocab.txt\n",
      "Request 441e4db3-32df-4766-9c89-0e540e669d0e: HEAD https://hf-mirror.com/dslim/distilbert-NER/resolve/main/tokenizer.json (authenticated: False)\n",
      "downloading https://hf-mirror.com/dslim/distilbert-NER/resolve/main/tokenizer.json to /root/autodl-tmp/hfcache/hc/tmpl9cemy6t\n",
      "Request 7c680d16-313b-4e1b-b2d7-0b4db3f93bd6: GET https://hf-mirror.com/dslim/distilbert-NER/resolve/main/tokenizer.json (authenticated: False)\n"
     ]
    },
    {
     "data": {
      "application/vnd.jupyter.widget-view+json": {
       "model_id": "15c4905f540e44ea916dc652df23173d",
       "version_major": 2,
       "version_minor": 0
      },
      "text/plain": [
       "tokenizer.json: 0.00B [00:00, ?B/s]"
      ]
     },
     "metadata": {},
     "output_type": "display_data"
    },
    {
     "name": "stderr",
     "output_type": "stream",
     "text": [
      "Storing https://hf-mirror.com/dslim/distilbert-NER/resolve/main/tokenizer.json in cache at /root/autodl-tmp/hfcache/hc/models--dslim--distilbert-NER/blobs/de7ac9b6bda3ed337df237120512a771c1c3f519\n",
      "Creating pointer from ../../blobs/de7ac9b6bda3ed337df237120512a771c1c3f519 to /root/autodl-tmp/hfcache/hc/models--dslim--distilbert-NER/snapshots/2be6ceafc6441e2057ac2324fa8bd548f209b52b/tokenizer.json\n",
      "Request 0d60ff99-e6bc-4b86-8d8f-6f1ef9e184dd: HEAD https://hf-mirror.com/dslim/distilbert-NER/resolve/main/added_tokens.json (authenticated: False)\n",
      "Request 028f04fb-a545-4305-856e-c47ad95e683f: HEAD https://hf-mirror.com/dslim/distilbert-NER/resolve/main/special_tokens_map.json (authenticated: False)\n",
      "downloading https://hf-mirror.com/dslim/distilbert-NER/resolve/main/special_tokens_map.json to /root/autodl-tmp/hfcache/hc/tmp75de_p9w\n",
      "Request 3d739c13-2963-4c0a-a894-85c8dab2a29a: GET https://hf-mirror.com/dslim/distilbert-NER/resolve/main/special_tokens_map.json (authenticated: False)\n"
     ]
    },
    {
     "data": {
      "application/vnd.jupyter.widget-view+json": {
       "model_id": "37427fb9ad874315b54051a9ed4768ca",
       "version_major": 2,
       "version_minor": 0
      },
      "text/plain": [
       "special_tokens_map.json:   0%|          | 0.00/125 [00:00<?, ?B/s]"
      ]
     },
     "metadata": {},
     "output_type": "display_data"
    },
    {
     "name": "stderr",
     "output_type": "stream",
     "text": [
      "Storing https://hf-mirror.com/dslim/distilbert-NER/resolve/main/special_tokens_map.json in cache at /root/autodl-tmp/hfcache/hc/models--dslim--distilbert-NER/blobs/a8b3208c2884c4efb86e49300fdd3dc877220cdf\n",
      "Creating pointer from ../../blobs/a8b3208c2884c4efb86e49300fdd3dc877220cdf to /root/autodl-tmp/hfcache/hc/models--dslim--distilbert-NER/snapshots/2be6ceafc6441e2057ac2324fa8bd548f209b52b/special_tokens_map.json\n",
      "Creating pointer from ../../blobs/a8b3208c2884c4efb86e49300fdd3dc877220cdf to /root/autodl-tmp/hfcache/hc/models--dslim--distilbert-NER/snapshots/2be6ceafc6441e2057ac2324fa8bd548f209b52b/special_tokens_map.json\n"
     ]
    }
   ],
   "source": [
    "from transformers import pipeline\n",
    "\n",
    "classifier = pipeline(task=\"ner\",model=\"dslim/distilbert-NER\")"
   ]
  },
  {
   "cell_type": "code",
   "execution_count": 28,
   "metadata": {},
   "outputs": [
    {
     "name": "stdout",
     "output_type": "stream",
     "text": [
      "{'entity': 'LABEL_0', 'score': 0.7291, 'index': 1, 'word': 'Hu', 'start': 0, 'end': 2}\n",
      "{'entity': 'LABEL_0', 'score': 0.7136, 'index': 2, 'word': '##gging', 'start': 2, 'end': 7}\n",
      "{'entity': 'LABEL_4', 'score': 0.9664, 'index': 3, 'word': 'Face', 'start': 8, 'end': 12}\n",
      "{'entity': 'LABEL_0', 'score': 0.9991, 'index': 4, 'word': 'is', 'start': 13, 'end': 15}\n",
      "{'entity': 'LABEL_0', 'score': 0.9993, 'index': 5, 'word': 'a', 'start': 16, 'end': 17}\n",
      "{'entity': 'LABEL_7', 'score': 0.9873, 'index': 6, 'word': 'French', 'start': 18, 'end': 24}\n",
      "{'entity': 'LABEL_0', 'score': 0.9971, 'index': 7, 'word': 'company', 'start': 25, 'end': 32}\n",
      "{'entity': 'LABEL_0', 'score': 0.9993, 'index': 8, 'word': 'based', 'start': 33, 'end': 38}\n",
      "{'entity': 'LABEL_0', 'score': 0.9994, 'index': 9, 'word': 'in', 'start': 39, 'end': 41}\n",
      "{'entity': 'LABEL_5', 'score': 0.9959, 'index': 10, 'word': 'New', 'start': 42, 'end': 45}\n",
      "{'entity': 'LABEL_6', 'score': 0.9959, 'index': 11, 'word': 'York', 'start': 46, 'end': 50}\n",
      "{'entity': 'LABEL_6', 'score': 0.9957, 'index': 12, 'word': 'City', 'start': 51, 'end': 55}\n",
      "{'entity': 'LABEL_0', 'score': 0.9983, 'index': 13, 'word': '.', 'start': 55, 'end': 56}\n"
     ]
    }
   ],
   "source": [
    "preds = classifier(\"Hugging Face is a French company based in New York City.\")\n",
    "preds = [\n",
    "    {\n",
    "        \"entity\": pred[\"entity\"],\n",
    "        \"score\": round(pred[\"score\"], 4),\n",
    "        \"index\": pred[\"index\"],\n",
    "        \"word\": pred[\"word\"],\n",
    "        \"start\": pred[\"start\"],\n",
    "        \"end\": pred[\"end\"],\n",
    "    }\n",
    "    for pred in preds\n",
    "]\n",
    "print(*preds, sep=\"\\n\")"
   ]
  },
  {
   "cell_type": "code",
   "execution_count": 29,
   "metadata": {},
   "outputs": [
    {
     "name": "stderr",
     "output_type": "stream",
     "text": [
      "Request 6a032d1b-c8f4-4a72-afd2-44fe27f71008: HEAD https://hf-mirror.com/dslim/distilbert-NER/resolve/main/config.json (authenticated: False)\n",
      "/root/autodl-tmp/transformers/src/transformers/pipelines/token_classification.py:168: UserWarning: `grouped_entities` is deprecated and will be removed in version v5.0.0, defaulted to `aggregation_strategy=\"simple\"` instead.\n",
      "  warnings.warn(\n"
     ]
    },
    {
     "data": {
      "text/plain": [
       "[{'entity_group': 'LABEL_0',\n",
       "  'score': 0.7213408,\n",
       "  'word': 'Hugging',\n",
       "  'start': 0,\n",
       "  'end': 7},\n",
       " {'entity_group': 'LABEL_4',\n",
       "  'score': 0.9663961,\n",
       "  'word': 'Face',\n",
       "  'start': 8,\n",
       "  'end': 12},\n",
       " {'entity_group': 'LABEL_0',\n",
       "  'score': 0.99920726,\n",
       "  'word': 'is a',\n",
       "  'start': 13,\n",
       "  'end': 17},\n",
       " {'entity_group': 'LABEL_7',\n",
       "  'score': 0.98729867,\n",
       "  'word': 'French',\n",
       "  'start': 18,\n",
       "  'end': 24},\n",
       " {'entity_group': 'LABEL_0',\n",
       "  'score': 0.99861956,\n",
       "  'word': 'company based in',\n",
       "  'start': 25,\n",
       "  'end': 41},\n",
       " {'entity_group': 'LABEL_5',\n",
       "  'score': 0.99593264,\n",
       "  'word': 'New',\n",
       "  'start': 42,\n",
       "  'end': 45},\n",
       " {'entity_group': 'LABEL_6',\n",
       "  'score': 0.99578834,\n",
       "  'word': 'York City',\n",
       "  'start': 46,\n",
       "  'end': 55},\n",
       " {'entity_group': 'LABEL_0',\n",
       "  'score': 0.9983041,\n",
       "  'word': '.',\n",
       "  'start': 55,\n",
       "  'end': 56}]"
      ]
     },
     "execution_count": 29,
     "metadata": {},
     "output_type": "execute_result"
    }
   ],
   "source": [
    "classifier = pipeline(task=\"ner\", grouped_entities=True,model=\"dslim/distilbert-NER\")\n",
    "classifier(\"Hugging Face is a French company based in New York City.\")"
   ]
  },
  {
   "cell_type": "markdown",
   "metadata": {},
   "source": [
    "### Question Answering"
   ]
  },
  {
   "cell_type": "code",
   "execution_count": 30,
   "metadata": {},
   "outputs": [
    {
     "name": "stderr",
     "output_type": "stream",
     "text": [
      "Request 5a3d5374-7f7d-4da5-9cfb-832dcbdb3795: HEAD https://hf-mirror.com/deepset/roberta-base-squad2/resolve/main/config.json (authenticated: False)\n",
      "downloading https://hf-mirror.com/deepset/roberta-base-squad2/resolve/main/config.json to /root/autodl-tmp/hfcache/hc/tmpcqqpk9my\n",
      "Request f7fa7fc9-7fe3-4605-8ee0-3f3f6890d4b8: GET https://hf-mirror.com/deepset/roberta-base-squad2/resolve/main/config.json (authenticated: False)\n"
     ]
    },
    {
     "data": {
      "application/vnd.jupyter.widget-view+json": {
       "model_id": "0aa08e977c8a4ad5ac36b71cba242071",
       "version_major": 2,
       "version_minor": 0
      },
      "text/plain": [
       "config.json:   0%|          | 0.00/321 [00:00<?, ?B/s]"
      ]
     },
     "metadata": {},
     "output_type": "display_data"
    },
    {
     "name": "stderr",
     "output_type": "stream",
     "text": [
      "Storing https://hf-mirror.com/deepset/roberta-base-squad2/resolve/main/config.json in cache at /root/autodl-tmp/hfcache/hc/models--deepset--roberta-base-squad2/blobs/a1f66a8df792b74eb796ed468eb1fcb1d739d558\n",
      "Creating pointer from ../../blobs/a1f66a8df792b74eb796ed468eb1fcb1d739d558 to /root/autodl-tmp/hfcache/hc/models--deepset--roberta-base-squad2/snapshots/cbf50ba81465d4d8676b8bab348e31835147541b/config.json\n",
      "Request d65be2e3-41f6-4c8d-8b01-0c03440f7342: HEAD https://hf-mirror.com/deepset/roberta-base-squad2/resolve/main/adapter_config.json (authenticated: False)\n",
      "Request c54a0fc8-cf4d-4de1-a0b3-fc903e08837a: HEAD https://hf-mirror.com/deepset/roberta-base-squad2/resolve/main/model.safetensors (authenticated: False)\n",
      "downloading https://hf-mirror.com/deepset/roberta-base-squad2/resolve/main/model.safetensors to /root/autodl-tmp/hfcache/hc/tmpgrcev27c\n",
      "Request 326139ae-d708-4c7d-ab9d-784aa0a29d54: GET https://cdn-lfs.hf-mirror.com/deepset/roberta-base-squad2/ac5db66fdcfecb400345d09787b71009d60805ef9883451071669cf951b5e2c7?response-content-disposition=attachment%3B+filename*%3DUTF-8%27%27model.safetensors%3B+filename%3D%22model.safetensors%22%3B&Expires=1712750626&Policy=eyJTdGF0ZW1lbnQiOlt7IkNvbmRpdGlvbiI6eyJEYXRlTGVzc1RoYW4iOnsiQVdTOkVwb2NoVGltZSI6MTcxMjc1MDYyNn19LCJSZXNvdXJjZSI6Imh0dHBzOi8vY2RuLWxmcy5odWdnaW5nZmFjZS5jby9kZWVwc2V0L3JvYmVydGEtYmFzZS1zcXVhZDIvYWM1ZGI2NmZkY2ZlY2I0MDAzNDVkMDk3ODdiNzEwMDlkNjA4MDVlZjk4ODM0NTEwNzE2NjljZjk1MWI1ZTJjNz9yZXNwb25zZS1jb250ZW50LWRpc3Bvc2l0aW9uPSoifV19&Signature=Z68rfp0twrNvgIfABwRiBXHmb9bSX9AX5ZD~V2cmM7ehKVyCE7yQOrrXAW2h3lkuHIVJ1r127APk98nnI8YMtnplCPTBmGHNm7mTGZgFHycHb95~nHa8rPnbk1AruxA-G-jw~bY9FU~yjr9P8Kurbl5K6F~jsKoLNfZp0nmitix-6P1BAYNFshBdId5D9yX13dRsNCqPPFzUcJ59kcnlQMifQy4WtdWVe4I6Bnd29krteGDT-p37er8RG4fj~PQziaIYSg2FB~jcKX4TeuAPqe9Qi-KHDpZCv8YGdeaIo5aNkORPKIKx7gp0rbKRvl56YPqjilD147j5QM8pY9~mBQ__&Key-Pair-Id=KVTP0A1DKRTAX (authenticated: False)\n"
     ]
    },
    {
     "data": {
      "application/vnd.jupyter.widget-view+json": {
       "model_id": "c8d463105b7a408bb43d8e2d383765b4",
       "version_major": 2,
       "version_minor": 0
      },
      "text/plain": [
       "model.safetensors:   0%|          | 0.00/496M [00:00<?, ?B/s]"
      ]
     },
     "metadata": {},
     "output_type": "display_data"
    },
    {
     "name": "stderr",
     "output_type": "stream",
     "text": [
      "Storing https://hf-mirror.com/deepset/roberta-base-squad2/resolve/main/model.safetensors in cache at /root/autodl-tmp/hfcache/hc/models--deepset--roberta-base-squad2/blobs/ac5db66fdcfecb400345d09787b71009d60805ef9883451071669cf951b5e2c7\n",
      "Creating pointer from ../../blobs/ac5db66fdcfecb400345d09787b71009d60805ef9883451071669cf951b5e2c7 to /root/autodl-tmp/hfcache/hc/models--deepset--roberta-base-squad2/snapshots/cbf50ba81465d4d8676b8bab348e31835147541b/model.safetensors\n",
      "Request 46e3808a-381b-4360-9662-c9f91f244516: HEAD https://hf-mirror.com/deepset/roberta-base-squad2/resolve/main/tokenizer_config.json (authenticated: False)\n",
      "downloading https://hf-mirror.com/deepset/roberta-base-squad2/resolve/main/tokenizer_config.json to /root/autodl-tmp/hfcache/hc/tmptu8coqte\n",
      "Request 837f2858-11d7-4aaf-904a-2a9df1fa379e: GET https://hf-mirror.com/deepset/roberta-base-squad2/resolve/main/tokenizer_config.json (authenticated: False)\n"
     ]
    },
    {
     "data": {
      "application/vnd.jupyter.widget-view+json": {
       "model_id": "b9b45e8d506c467baa00cdb7c8ee3b27",
       "version_major": 2,
       "version_minor": 0
      },
      "text/plain": [
       "tokenizer_config.json:   0%|          | 0.00/79.0 [00:00<?, ?B/s]"
      ]
     },
     "metadata": {},
     "output_type": "display_data"
    },
    {
     "name": "stderr",
     "output_type": "stream",
     "text": [
      "Storing https://hf-mirror.com/deepset/roberta-base-squad2/resolve/main/tokenizer_config.json in cache at /root/autodl-tmp/hfcache/hc/models--deepset--roberta-base-squad2/blobs/716c99719ef143bc426aac25d0c843c52a1bac8f\n",
      "Creating pointer from ../../blobs/716c99719ef143bc426aac25d0c843c52a1bac8f to /root/autodl-tmp/hfcache/hc/models--deepset--roberta-base-squad2/snapshots/cbf50ba81465d4d8676b8bab348e31835147541b/tokenizer_config.json\n",
      "Request 106c1980-84fd-4c5e-8bd8-6eafd50e4075: HEAD https://hf-mirror.com/deepset/roberta-base-squad2/resolve/main/vocab.json (authenticated: False)\n",
      "downloading https://hf-mirror.com/deepset/roberta-base-squad2/resolve/main/vocab.json to /root/autodl-tmp/hfcache/hc/tmp6tmk9lxo\n",
      "Request 0b4a0ed3-5ea0-4165-97b3-177b8b8c2c94: GET https://hf-mirror.com/deepset/roberta-base-squad2/resolve/main/vocab.json (authenticated: False)\n"
     ]
    },
    {
     "data": {
      "application/vnd.jupyter.widget-view+json": {
       "model_id": "6a9ee9757fc74a7ba017beb3656f4453",
       "version_major": 2,
       "version_minor": 0
      },
      "text/plain": [
       "vocab.json: 0.00B [00:00, ?B/s]"
      ]
     },
     "metadata": {},
     "output_type": "display_data"
    },
    {
     "name": "stderr",
     "output_type": "stream",
     "text": [
      "Storing https://hf-mirror.com/deepset/roberta-base-squad2/resolve/main/vocab.json in cache at /root/autodl-tmp/hfcache/hc/models--deepset--roberta-base-squad2/blobs/0a39732b2d8be8e493cab3da68b68cc3e28221de\n",
      "Creating pointer from ../../blobs/0a39732b2d8be8e493cab3da68b68cc3e28221de to /root/autodl-tmp/hfcache/hc/models--deepset--roberta-base-squad2/snapshots/cbf50ba81465d4d8676b8bab348e31835147541b/vocab.json\n",
      "Request 5210d6f5-3a23-427e-afec-79eb90b8ca03: HEAD https://hf-mirror.com/deepset/roberta-base-squad2/resolve/main/merges.txt (authenticated: False)\n",
      "downloading https://hf-mirror.com/deepset/roberta-base-squad2/resolve/main/merges.txt to /root/autodl-tmp/hfcache/hc/tmpo5css3nq\n",
      "Request e63f2830-3267-4a37-b98d-55bed11174f1: GET https://hf-mirror.com/deepset/roberta-base-squad2/resolve/main/merges.txt (authenticated: False)\n"
     ]
    },
    {
     "data": {
      "application/vnd.jupyter.widget-view+json": {
       "model_id": "2fec707e1a4444d8bd3fcda8d34acca1",
       "version_major": 2,
       "version_minor": 0
      },
      "text/plain": [
       "merges.txt: 0.00B [00:00, ?B/s]"
      ]
     },
     "metadata": {},
     "output_type": "display_data"
    },
    {
     "name": "stderr",
     "output_type": "stream",
     "text": [
      "Storing https://hf-mirror.com/deepset/roberta-base-squad2/resolve/main/merges.txt in cache at /root/autodl-tmp/hfcache/hc/models--deepset--roberta-base-squad2/blobs/226b0752cac7789c48f0cb3ec53eda48b7be36cc\n",
      "Creating pointer from ../../blobs/226b0752cac7789c48f0cb3ec53eda48b7be36cc to /root/autodl-tmp/hfcache/hc/models--deepset--roberta-base-squad2/snapshots/cbf50ba81465d4d8676b8bab348e31835147541b/merges.txt\n",
      "Request 11153335-06e6-4af7-ab2a-1a6b4c41b5b4: HEAD https://hf-mirror.com/deepset/roberta-base-squad2/resolve/main/tokenizer.json (authenticated: False)\n",
      "Request 483de31f-accb-45be-96a0-3e08ae8c53aa: HEAD https://hf-mirror.com/deepset/roberta-base-squad2/resolve/main/added_tokens.json (authenticated: False)\n",
      "Request 46836a45-d5c7-4c85-b48f-f7bf6db04515: HEAD https://hf-mirror.com/deepset/roberta-base-squad2/resolve/main/special_tokens_map.json (authenticated: False)\n",
      "downloading https://hf-mirror.com/deepset/roberta-base-squad2/resolve/main/special_tokens_map.json to /root/autodl-tmp/hfcache/hc/tmpzbfv7pzn\n",
      "Request 5abe231f-0bee-497b-915a-befdd93fdc16: GET https://hf-mirror.com/deepset/roberta-base-squad2/resolve/main/special_tokens_map.json (authenticated: False)\n"
     ]
    },
    {
     "data": {
      "application/vnd.jupyter.widget-view+json": {
       "model_id": "16e43059f6ba43abb932d466a9961f0b",
       "version_major": 2,
       "version_minor": 0
      },
      "text/plain": [
       "special_tokens_map.json:   0%|          | 0.00/156 [00:00<?, ?B/s]"
      ]
     },
     "metadata": {},
     "output_type": "display_data"
    },
    {
     "name": "stderr",
     "output_type": "stream",
     "text": [
      "Storing https://hf-mirror.com/deepset/roberta-base-squad2/resolve/main/special_tokens_map.json in cache at /root/autodl-tmp/hfcache/hc/models--deepset--roberta-base-squad2/blobs/e97d1993365bb21c88f390e8703e4c1af564821f\n",
      "Creating pointer from ../../blobs/e97d1993365bb21c88f390e8703e4c1af564821f to /root/autodl-tmp/hfcache/hc/models--deepset--roberta-base-squad2/snapshots/cbf50ba81465d4d8676b8bab348e31835147541b/special_tokens_map.json\n",
      "Creating pointer from ../../blobs/e97d1993365bb21c88f390e8703e4c1af564821f to /root/autodl-tmp/hfcache/hc/models--deepset--roberta-base-squad2/snapshots/cbf50ba81465d4d8676b8bab348e31835147541b/special_tokens_map.json\n"
     ]
    }
   ],
   "source": [
    "from transformers import pipeline\n",
    "\n",
    "question_answerer = pipeline(task=\"question-answering\",model=\"deepset/roberta-base-squad2\")"
   ]
  },
  {
   "cell_type": "code",
   "execution_count": 31,
   "metadata": {},
   "outputs": [
    {
     "name": "stdout",
     "output_type": "stream",
     "text": [
      "score: 0.9068, start: 30, end: 54, answer: huggingface/transformers\n"
     ]
    }
   ],
   "source": [
    "preds = question_answerer(\n",
    "    question=\"What is the name of the repository?\",\n",
    "    context=\"The name of the repository is huggingface/transformers\",\n",
    ")\n",
    "print(\n",
    "    f\"score: {round(preds['score'], 4)}, start: {preds['start']}, end: {preds['end']}, answer: {preds['answer']}\"\n",
    ")"
   ]
  },
  {
   "cell_type": "code",
   "execution_count": 32,
   "metadata": {},
   "outputs": [
    {
     "name": "stdout",
     "output_type": "stream",
     "text": [
      "score: 0.7504, start: 115, end: 122, answer: Beijing\n"
     ]
    }
   ],
   "source": [
    "preds = question_answerer(\n",
    "    question=\"What is the capital of China?\",\n",
    "    context=\"On 1 October 1949, CCP Chairman Mao Zedong formally proclaimed the People's Republic of China in Tiananmen Square, Beijing.\",\n",
    ")\n",
    "print(\n",
    "    f\"score: {round(preds['score'], 4)}, start: {preds['start']}, end: {preds['end']}, answer: {preds['answer']}\"\n",
    ")"
   ]
  },
  {
   "cell_type": "markdown",
   "metadata": {},
   "source": [
    "### Summarization"
   ]
  },
  {
   "cell_type": "code",
   "execution_count": 33,
   "metadata": {},
   "outputs": [
    {
     "name": "stderr",
     "output_type": "stream",
     "text": [
      "Request 5340b419-c817-4f16-933c-fd16eebbdf37: HEAD https://hf-mirror.com/facebook/bart-large-cnn/resolve/main/config.json (authenticated: False)\n",
      "downloading https://hf-mirror.com/facebook/bart-large-cnn/resolve/main/config.json to /root/autodl-tmp/hfcache/hc/tmpa247th5q\n",
      "Request 60ae008a-bb1a-45f3-a51b-11af2c317dca: GET https://hf-mirror.com/facebook/bart-large-cnn/resolve/main/config.json (authenticated: False)\n"
     ]
    },
    {
     "data": {
      "application/vnd.jupyter.widget-view+json": {
       "model_id": "2af72d0cde4545009aa08c6a876582ec",
       "version_major": 2,
       "version_minor": 0
      },
      "text/plain": [
       "config.json:   0%|          | 0.00/632 [00:00<?, ?B/s]"
      ]
     },
     "metadata": {},
     "output_type": "display_data"
    },
    {
     "name": "stderr",
     "output_type": "stream",
     "text": [
      "Storing https://hf-mirror.com/facebook/bart-large-cnn/resolve/main/config.json in cache at /root/autodl-tmp/hfcache/hc/models--facebook--bart-large-cnn/blobs/2d297163111d6483909070dc6de8d34236c72636\n",
      "Creating pointer from ../../blobs/2d297163111d6483909070dc6de8d34236c72636 to /root/autodl-tmp/hfcache/hc/models--facebook--bart-large-cnn/snapshots/37f520fa929c961707657b28798b30c003dd100b/config.json\n",
      "Request 737ed4ff-96a8-4bd8-8e6c-43a3a5bdf22d: HEAD https://hf-mirror.com/facebook/bart-large-cnn/resolve/main/adapter_config.json (authenticated: False)\n",
      "Request 91c04a2c-674f-4a45-915e-8a878c200d74: HEAD https://hf-mirror.com/facebook/bart-large-cnn/resolve/main/model.safetensors (authenticated: False)\n",
      "downloading https://hf-mirror.com/facebook/bart-large-cnn/resolve/main/model.safetensors to /root/autodl-tmp/hfcache/hc/tmpwb3x74wb\n",
      "Request 462642f9-b3f6-42e3-9bc5-bb8430a726cd: GET https://cdn-lfs.hf-mirror.com/facebook/bart-large-cnn/40041830399afb5348525ef8354b007ecec4286fdf3524f7e6b54377e17096cb?response-content-disposition=attachment%3B+filename*%3DUTF-8%27%27model.safetensors%3B+filename%3D%22model.safetensors%22%3B&Expires=1712749193&Policy=eyJTdGF0ZW1lbnQiOlt7IkNvbmRpdGlvbiI6eyJEYXRlTGVzc1RoYW4iOnsiQVdTOkVwb2NoVGltZSI6MTcxMjc0OTE5M319LCJSZXNvdXJjZSI6Imh0dHBzOi8vY2RuLWxmcy5odWdnaW5nZmFjZS5jby9mYWNlYm9vay9iYXJ0LWxhcmdlLWNubi80MDA0MTgzMDM5OWFmYjUzNDg1MjVlZjgzNTRiMDA3ZWNlYzQyODZmZGYzNTI0ZjdlNmI1NDM3N2UxNzA5NmNiP3Jlc3BvbnNlLWNvbnRlbnQtZGlzcG9zaXRpb249KiJ9XX0_&Signature=xG9fYm2BP6bdjVSb55RZamvTWRG7W-YaihFE01qlNBErWUtcIsOafBRa2uzoKDaVz6B37iJJGm3MtbaLPvnyOYEfIxrA89cKjTmoEKTuHRDDgoeWL-1KKm-Bw4DZjgVX1sNaQITLjLdq-ssHvF1x4Sx-IjCrcWg4SAob6gtUCBejzZfiJszE9GdamGazhhs6rPT9icTKPm3k7zwz97dDnPXiCJ4eYfzoZHaH5ZBr96hLOUU2ofXhkKs9nAvaYLb-L3M2V6sUBUiPlGEatLi5x95FScsYeqZ9~RYNssle7f0rMlBY7mWkVH19v15onDK8nUHxWqWSG2KkJPMddK7Eow__&Key-Pair-Id=KVTP0A1DKRTAX (authenticated: False)\n"
     ]
    },
    {
     "data": {
      "application/vnd.jupyter.widget-view+json": {
       "model_id": "2ad1f8f30a62466cb411594ff3edc7c7",
       "version_major": 2,
       "version_minor": 0
      },
      "text/plain": [
       "model.safetensors:   0%|          | 0.00/1.63G [00:00<?, ?B/s]"
      ]
     },
     "metadata": {},
     "output_type": "display_data"
    },
    {
     "name": "stderr",
     "output_type": "stream",
     "text": [
      "Storing https://hf-mirror.com/facebook/bart-large-cnn/resolve/main/model.safetensors in cache at /root/autodl-tmp/hfcache/hc/models--facebook--bart-large-cnn/blobs/40041830399afb5348525ef8354b007ecec4286fdf3524f7e6b54377e17096cb\n",
      "Creating pointer from ../../blobs/40041830399afb5348525ef8354b007ecec4286fdf3524f7e6b54377e17096cb to /root/autodl-tmp/hfcache/hc/models--facebook--bart-large-cnn/snapshots/37f520fa929c961707657b28798b30c003dd100b/model.safetensors\n",
      "Request c988c860-d0ae-4ad2-aee6-4c9c1f588ba9: HEAD https://hf-mirror.com/facebook/bart-large-cnn/resolve/main/generation_config.json (authenticated: False)\n",
      "downloading https://hf-mirror.com/facebook/bart-large-cnn/resolve/main/generation_config.json to /root/autodl-tmp/hfcache/hc/tmpzpvu0a2t\n",
      "Request 0076af89-d9af-4c09-b211-cc226ad3ed23: GET https://hf-mirror.com/facebook/bart-large-cnn/resolve/main/generation_config.json (authenticated: False)\n"
     ]
    },
    {
     "data": {
      "application/vnd.jupyter.widget-view+json": {
       "model_id": "3ccc94fedade41f898df08548728c240",
       "version_major": 2,
       "version_minor": 0
      },
      "text/plain": [
       "generation_config.json:   0%|          | 0.00/363 [00:00<?, ?B/s]"
      ]
     },
     "metadata": {},
     "output_type": "display_data"
    },
    {
     "name": "stderr",
     "output_type": "stream",
     "text": [
      "Storing https://hf-mirror.com/facebook/bart-large-cnn/resolve/main/generation_config.json in cache at /root/autodl-tmp/hfcache/hc/models--facebook--bart-large-cnn/blobs/f729590ec05c715e3b922996b3a7b5c1c73fb1f7\n",
      "Creating pointer from ../../blobs/f729590ec05c715e3b922996b3a7b5c1c73fb1f7 to /root/autodl-tmp/hfcache/hc/models--facebook--bart-large-cnn/snapshots/37f520fa929c961707657b28798b30c003dd100b/generation_config.json\n",
      "Request c7c45776-1077-4689-8920-a933f5b02775: HEAD https://hf-mirror.com/facebook/bart-large-cnn/resolve/main/tokenizer_config.json (authenticated: False)\n",
      "Request 4c59f7f5-204b-49ed-b30a-36d855f4cd43: HEAD https://hf-mirror.com/facebook/bart-large-cnn/resolve/main/vocab.json (authenticated: False)\n",
      "downloading https://hf-mirror.com/facebook/bart-large-cnn/resolve/main/vocab.json to /root/autodl-tmp/hfcache/hc/tmpoj67o4td\n",
      "Request 165a3f95-c745-41fb-8879-2c3ebd358b74: GET https://hf-mirror.com/facebook/bart-large-cnn/resolve/main/vocab.json (authenticated: False)\n"
     ]
    },
    {
     "data": {
      "application/vnd.jupyter.widget-view+json": {
       "model_id": "977cef8639c94e439abb43e62999462c",
       "version_major": 2,
       "version_minor": 0
      },
      "text/plain": [
       "vocab.json: 0.00B [00:00, ?B/s]"
      ]
     },
     "metadata": {},
     "output_type": "display_data"
    },
    {
     "name": "stderr",
     "output_type": "stream",
     "text": [
      "Storing https://hf-mirror.com/facebook/bart-large-cnn/resolve/main/vocab.json in cache at /root/autodl-tmp/hfcache/hc/models--facebook--bart-large-cnn/blobs/5606f48548d99a9829d10a96cd364b816b02cd21\n",
      "Creating pointer from ../../blobs/5606f48548d99a9829d10a96cd364b816b02cd21 to /root/autodl-tmp/hfcache/hc/models--facebook--bart-large-cnn/snapshots/37f520fa929c961707657b28798b30c003dd100b/vocab.json\n",
      "Request 9bf8c2fc-384b-4ff2-a3ba-e57cca5efff4: HEAD https://hf-mirror.com/facebook/bart-large-cnn/resolve/main/merges.txt (authenticated: False)\n",
      "downloading https://hf-mirror.com/facebook/bart-large-cnn/resolve/main/merges.txt to /root/autodl-tmp/hfcache/hc/tmpnowhdhjz\n",
      "Request 32bc93ae-7431-40cc-be31-e0ff749f940d: GET https://hf-mirror.com/facebook/bart-large-cnn/resolve/main/merges.txt (authenticated: False)\n"
     ]
    },
    {
     "data": {
      "application/vnd.jupyter.widget-view+json": {
       "model_id": "f41030a9a6564ecbbcc13ee4cd231be3",
       "version_major": 2,
       "version_minor": 0
      },
      "text/plain": [
       "merges.txt: 0.00B [00:00, ?B/s]"
      ]
     },
     "metadata": {},
     "output_type": "display_data"
    },
    {
     "name": "stderr",
     "output_type": "stream",
     "text": [
      "Storing https://hf-mirror.com/facebook/bart-large-cnn/resolve/main/merges.txt in cache at /root/autodl-tmp/hfcache/hc/models--facebook--bart-large-cnn/blobs/226b0752cac7789c48f0cb3ec53eda48b7be36cc\n",
      "Creating pointer from ../../blobs/226b0752cac7789c48f0cb3ec53eda48b7be36cc to /root/autodl-tmp/hfcache/hc/models--facebook--bart-large-cnn/snapshots/37f520fa929c961707657b28798b30c003dd100b/merges.txt\n",
      "Request e2ae019b-4c08-4370-82ef-796ea5d7b9ed: HEAD https://hf-mirror.com/facebook/bart-large-cnn/resolve/main/tokenizer.json (authenticated: False)\n",
      "downloading https://hf-mirror.com/facebook/bart-large-cnn/resolve/main/tokenizer.json to /root/autodl-tmp/hfcache/hc/tmpgm5t6m7g\n",
      "Request 2231b6ae-f6bb-4b4e-91bc-23236b43c4df: GET https://hf-mirror.com/facebook/bart-large-cnn/resolve/main/tokenizer.json (authenticated: False)\n"
     ]
    },
    {
     "data": {
      "application/vnd.jupyter.widget-view+json": {
       "model_id": "105fd6060710433298c0b3ca6bf0e943",
       "version_major": 2,
       "version_minor": 0
      },
      "text/plain": [
       "tokenizer.json: 0.00B [00:00, ?B/s]"
      ]
     },
     "metadata": {},
     "output_type": "display_data"
    },
    {
     "name": "stderr",
     "output_type": "stream",
     "text": [
      "Storing https://hf-mirror.com/facebook/bart-large-cnn/resolve/main/tokenizer.json in cache at /root/autodl-tmp/hfcache/hc/models--facebook--bart-large-cnn/blobs/ad0bcbeb288f0d1373d88e0762e66357f55b8311\n",
      "Creating pointer from ../../blobs/ad0bcbeb288f0d1373d88e0762e66357f55b8311 to /root/autodl-tmp/hfcache/hc/models--facebook--bart-large-cnn/snapshots/37f520fa929c961707657b28798b30c003dd100b/tokenizer.json\n",
      "Request c262efe2-7149-4215-8e05-9ddcc42a4416: HEAD https://hf-mirror.com/facebook/bart-large-cnn/resolve/main/added_tokens.json (authenticated: False)\n",
      "Request 3183dc01-7437-4136-b210-3226a36c0ae3: HEAD https://hf-mirror.com/facebook/bart-large-cnn/resolve/main/special_tokens_map.json (authenticated: False)\n"
     ]
    },
    {
     "data": {
      "text/plain": [
       "[{'summary_text': 'Transformers are a set of neural networks that consist of an encoder and a decoder with self-attention capabilities. Unlike earlier recurrent neural'}]"
      ]
     },
     "execution_count": 33,
     "metadata": {},
     "output_type": "execute_result"
    }
   ],
   "source": [
    "from transformers import pipeline\n",
    "\n",
    "summarizer = pipeline(task=\"summarization\",\n",
    "                      model=\"facebook/bart-large-cnn\",\n",
    "                      min_length=8,\n",
    "                      max_length=32,\n",
    ")\n",
    "summarizer(\n",
    "    \"\"\"\n",
    "    In this work, we presented the Transformer, the first sequence transduction model based entirely on attention, \n",
    "    replacing the recurrent layers most commonly used in encoder-decoder architectures with multi-headed self-attention. \n",
    "    For translation tasks, the Transformer can be trained significantly faster than architectures based on recurrent or convolutional layers. \n",
    "    On both WMT 2014 English-to-German and WMT 2014 English-to-French translation tasks, we achieve a new state of the art. \n",
    "    In the former task our best model outperforms even all previously reported ensembles.\n",
    "    \"\"\"\n",
    ")\n",
    "summarizer(\n",
    "    '''\n",
    "    Large language models (LLM) are very large deep learning models that are pre-trained on vast amounts of data. \n",
    "    The underlying transformer is a set of neural networks that consist of an encoder and a decoder with self-attention capabilities. \n",
    "    The encoder and decoder extract meanings from a sequence of text and understand the relationships between words and phrases in it.\n",
    "    Transformer LLMs are capable of unsupervised training, although a more precise explanation is that transformers perform self-learning. \n",
    "    It is through this process that transformers learn to understand basic grammar, languages, and knowledge.\n",
    "    Unlike earlier recurrent neural networks (RNN) that sequentially process inputs, transformers process entire sequences in parallel. \n",
    "    This allows the data scientists to use GPUs for training transformer-based LLMs, significantly reducing the training time.\n",
    "    '''\n",
    ")"
   ]
  },
  {
   "cell_type": "markdown",
   "metadata": {},
   "source": [
    "## Audio 音频处理任务"
   ]
  },
  {
   "cell_type": "markdown",
   "metadata": {},
   "source": [
    "### Audio classification"
   ]
  },
  {
   "cell_type": "code",
   "execution_count": 34,
   "metadata": {},
   "outputs": [
    {
     "name": "stderr",
     "output_type": "stream",
     "text": [
      "Request cf0f9232-f8c6-4ea3-b140-7d58cad8df88: HEAD https://hf-mirror.com/MIT/ast-finetuned-audioset-10-10-0.4593/resolve/main/config.json (authenticated: False)\n",
      "downloading https://hf-mirror.com/MIT/ast-finetuned-audioset-10-10-0.4593/resolve/main/config.json to /root/autodl-tmp/hfcache/hc/tmpg176m584\n",
      "Request ecdf8fb2-8d11-4cb0-a569-f4f00184da20: GET https://hf-mirror.com/MIT/ast-finetuned-audioset-10-10-0.4593/resolve/main/config.json (authenticated: False)\n"
     ]
    },
    {
     "data": {
      "application/vnd.jupyter.widget-view+json": {
       "model_id": "ab4a22915efe4ffca92ec5d27ead678f",
       "version_major": 2,
       "version_minor": 0
      },
      "text/plain": [
       "config.json: 0.00B [00:00, ?B/s]"
      ]
     },
     "metadata": {},
     "output_type": "display_data"
    },
    {
     "name": "stderr",
     "output_type": "stream",
     "text": [
      "Storing https://hf-mirror.com/MIT/ast-finetuned-audioset-10-10-0.4593/resolve/main/config.json in cache at /root/autodl-tmp/hfcache/hc/models--MIT--ast-finetuned-audioset-10-10-0.4593/blobs/9b822c630bc1a61312ac702cca4d8fb5a524e729\n",
      "Creating pointer from ../../blobs/9b822c630bc1a61312ac702cca4d8fb5a524e729 to /root/autodl-tmp/hfcache/hc/models--MIT--ast-finetuned-audioset-10-10-0.4593/snapshots/f826b80d28226b62986cc218e5cec390b1096902/config.json\n",
      "Request bbcfbfc6-aa95-44e4-8c01-765adf8826d7: HEAD https://hf-mirror.com/MIT/ast-finetuned-audioset-10-10-0.4593/resolve/main/adapter_config.json (authenticated: False)\n",
      "Request 897af07b-27c1-4a49-b929-59507cbe9f11: HEAD https://hf-mirror.com/MIT/ast-finetuned-audioset-10-10-0.4593/resolve/main/model.safetensors (authenticated: False)\n",
      "downloading https://hf-mirror.com/MIT/ast-finetuned-audioset-10-10-0.4593/resolve/main/model.safetensors to /root/autodl-tmp/hfcache/hc/tmpxaozczaw\n",
      "Request 6726fc85-5198-418e-b564-e09be3512af3: GET https://cdn-lfs.hf-mirror.com/repos/36/ba/36ba7622a1261198613632cf21561c2c846fae1e277917efab2748746438defe/ae0c1e2ad4e1381d851fa9bf298ba13ebc9c5a914cdee2dbe427a6583869924d?response-content-disposition=attachment%3B+filename*%3DUTF-8%27%27model.safetensors%3B+filename%3D%22model.safetensors%22%3B&Expires=1712751072&Policy=eyJTdGF0ZW1lbnQiOlt7IkNvbmRpdGlvbiI6eyJEYXRlTGVzc1RoYW4iOnsiQVdTOkVwb2NoVGltZSI6MTcxMjc1MTA3Mn19LCJSZXNvdXJjZSI6Imh0dHBzOi8vY2RuLWxmcy5odWdnaW5nZmFjZS5jby9yZXBvcy8zNi9iYS8zNmJhNzYyMmExMjYxMTk4NjEzNjMyY2YyMTU2MWMyYzg0NmZhZTFlMjc3OTE3ZWZhYjI3NDg3NDY0MzhkZWZlL2FlMGMxZTJhZDRlMTM4MWQ4NTFmYTliZjI5OGJhMTNlYmM5YzVhOTE0Y2RlZTJkYmU0MjdhNjU4Mzg2OTkyNGQ~cmVzcG9uc2UtY29udGVudC1kaXNwb3NpdGlvbj0qIn1dfQ__&Signature=P-ndn6OKrlxEbhX1o9r8hxfYjK22UMZnwYQauuvKtZI-dDuXenXWSpRG~YVax7fWN~Bj7jPcoPyS44GxGPau7OEv4nyZpDkS0ZBGmkDDbRnbNofV7Nl91hlznpqrdv-aMqd5ePjCvAC0Ubsdy2N3KtdKAp0HF7C3Yfrr4dr3ptNeTnt~O07qL3qMFDXcloa233wBzRsV9mTPwT32ycObYH40UZ5LIZeYfuEo7BnAhqzrFp9D6WVOfbp14CTwBmHES4QE43jsxmo4L7Iv7EeTm3ZG5EQbxb7NZ3Z9~Wl26xsqJ-xamJcMv-hx~X63cD0EpMk54QJcziN547D67u5XZg__&Key-Pair-Id=KVTP0A1DKRTAX (authenticated: False)\n"
     ]
    },
    {
     "data": {
      "application/vnd.jupyter.widget-view+json": {
       "model_id": "59ddf88cdca04ef994638f99f04d1c21",
       "version_major": 2,
       "version_minor": 0
      },
      "text/plain": [
       "model.safetensors:   0%|          | 0.00/346M [00:00<?, ?B/s]"
      ]
     },
     "metadata": {},
     "output_type": "display_data"
    },
    {
     "name": "stderr",
     "output_type": "stream",
     "text": [
      "Storing https://hf-mirror.com/MIT/ast-finetuned-audioset-10-10-0.4593/resolve/main/model.safetensors in cache at /root/autodl-tmp/hfcache/hc/models--MIT--ast-finetuned-audioset-10-10-0.4593/blobs/ae0c1e2ad4e1381d851fa9bf298ba13ebc9c5a914cdee2dbe427a6583869924d\n",
      "Creating pointer from ../../blobs/ae0c1e2ad4e1381d851fa9bf298ba13ebc9c5a914cdee2dbe427a6583869924d to /root/autodl-tmp/hfcache/hc/models--MIT--ast-finetuned-audioset-10-10-0.4593/snapshots/f826b80d28226b62986cc218e5cec390b1096902/model.safetensors\n",
      "Request 1cda1380-4eac-4932-b362-cd00baa4717b: HEAD https://hf-mirror.com/MIT/ast-finetuned-audioset-10-10-0.4593/resolve/main/preprocessor_config.json (authenticated: False)\n",
      "downloading https://hf-mirror.com/MIT/ast-finetuned-audioset-10-10-0.4593/resolve/main/preprocessor_config.json to /root/autodl-tmp/hfcache/hc/tmpufy44rxf\n",
      "Request 6a119ff9-d329-41ea-8027-951723ceb543: GET https://hf-mirror.com/MIT/ast-finetuned-audioset-10-10-0.4593/resolve/main/preprocessor_config.json (authenticated: False)\n"
     ]
    },
    {
     "data": {
      "application/vnd.jupyter.widget-view+json": {
       "model_id": "001809606c294cc28051c8b4d90c8e4f",
       "version_major": 2,
       "version_minor": 0
      },
      "text/plain": [
       "preprocessor_config.json:   0%|          | 0.00/297 [00:00<?, ?B/s]"
      ]
     },
     "metadata": {},
     "output_type": "display_data"
    },
    {
     "name": "stderr",
     "output_type": "stream",
     "text": [
      "Storing https://hf-mirror.com/MIT/ast-finetuned-audioset-10-10-0.4593/resolve/main/preprocessor_config.json in cache at /root/autodl-tmp/hfcache/hc/models--MIT--ast-finetuned-audioset-10-10-0.4593/blobs/d93e9e561c374604096fd5868c97e08130638f72\n",
      "Creating pointer from ../../blobs/d93e9e561c374604096fd5868c97e08130638f72 to /root/autodl-tmp/hfcache/hc/models--MIT--ast-finetuned-audioset-10-10-0.4593/snapshots/f826b80d28226b62986cc218e5cec390b1096902/preprocessor_config.json\n",
      "/root/autodl-tmp/transformers/src/transformers/audio_utils.py:296: UserWarning: At least one mel filter has all zero values. The value for `num_mel_filters` (128) may be set too high. Or, the value for `num_frequency_bins` (256) may be set too low.\n",
      "  warnings.warn(\n"
     ]
    },
    {
     "data": {
      "text/plain": [
       "[{'score': 0.4208, 'label': 'Speech'},\n",
       " {'score': 0.1793, 'label': 'Rain on surface'},\n",
       " {'score': 0.1301, 'label': 'Rain'},\n",
       " {'score': 0.096, 'label': 'Raindrop'},\n",
       " {'score': 0.0578, 'label': 'Music'}]"
      ]
     },
     "execution_count": 34,
     "metadata": {},
     "output_type": "execute_result"
    }
   ],
   "source": [
    "from transformers import pipeline\n",
    "\n",
    "classifier = pipeline(task=\"audio-classification\", model=\"MIT/ast-finetuned-audioset-10-10-0.4593\")\n",
    "# 使用 Hugging Face Datasets 上的测试文件\n",
    "preds = classifier(\"https://hf-mirror.com/datasets/Narsil/asr_dummy/resolve/main/mlk.flac\")\n",
    "preds = [{\"score\": round(pred[\"score\"], 4), \"label\": pred[\"label\"]} for pred in preds]\n",
    "preds"
   ]
  },
  {
   "cell_type": "code",
   "execution_count": 35,
   "metadata": {},
   "outputs": [
    {
     "data": {
      "text/plain": [
       "[{'score': 0.4208, 'label': 'Speech'},\n",
       " {'score': 0.1793, 'label': 'Rain on surface'},\n",
       " {'score': 0.1301, 'label': 'Rain'},\n",
       " {'score': 0.096, 'label': 'Raindrop'},\n",
       " {'score': 0.0578, 'label': 'Music'}]"
      ]
     },
     "execution_count": 35,
     "metadata": {},
     "output_type": "execute_result"
    }
   ],
   "source": [
    "# 使用本地的音频文件做测试\n",
    "preds = classifier(\"data/audio/mlk.flac\")\n",
    "preds = [{\"score\": round(pred[\"score\"], 4), \"label\": pred[\"label\"]} for pred in preds]\n",
    "preds"
   ]
  },
  {
   "cell_type": "markdown",
   "metadata": {},
   "source": [
    "### Automatic speech recognition（ASR）"
   ]
  },
  {
   "cell_type": "code",
   "execution_count": 5,
   "metadata": {},
   "outputs": [
    {
     "name": "stderr",
     "output_type": "stream",
     "text": [
      "Request a086c0af-61bb-4d6b-8cff-a4fda61245ea: HEAD https://hf-mirror.com/openai/whisper-large-v2/resolve/main/config.json (authenticated: False)\n",
      "Request e8484493-664a-4a7a-882c-77c422697768: HEAD https://hf-mirror.com/openai/whisper-large-v2/resolve/main/generation_config.json (authenticated: False)\n",
      "Special tokens have been added in the vocabulary, make sure the associated word embeddings are fine-tuned or trained.\n",
      "Request 6ff792c9-0356-4cb6-b74f-344d132a61eb: HEAD https://hf-mirror.com/openai/whisper-large-v2/resolve/main/preprocessor_config.json (authenticated: False)\n"
     ]
    },
    {
     "data": {
      "text/plain": [
       "{'text': '婴儿保湿巾baby soft tissue'}"
      ]
     },
     "execution_count": 5,
     "metadata": {},
     "output_type": "execute_result"
    }
   ],
   "source": [
    "from transformers import pipeline\n",
    "\n",
    "# 使用 `model` 参数指定模型\n",
    "transcriber = pipeline(task=\"automatic-speech-recognition\", model=\"openai/whisper-large-v2\")\n",
    "text = transcriber(\"data/audio/20240407_203709.flac\")\n",
    "text"
   ]
  },
  {
   "cell_type": "markdown",
   "metadata": {},
   "source": [
    "## Computer Vision 计算机视觉"
   ]
  },
  {
   "cell_type": "markdown",
   "metadata": {},
   "source": [
    "### Image Classificaiton"
   ]
  },
  {
   "cell_type": "code",
   "execution_count": 6,
   "metadata": {},
   "outputs": [
    {
     "name": "stderr",
     "output_type": "stream",
     "text": [
      "Request 03ccee59-87c6-4787-b9de-0987032aeae1: HEAD https://hf-mirror.com/microsoft/resnet-50/resolve/main/config.json (authenticated: False)\n",
      "Request 884b27ab-a044-43e2-85a6-e8b921fdb227: HEAD https://hf-mirror.com/microsoft/resnet-50/resolve/main/preprocessor_config.json (authenticated: False)\n",
      "Could not find image processor class in the image processor config or the model config. Loading based on pattern matching with the model's feature extractor configuration. Please open a PR/issue to update `preprocessor_config.json` to use `image_processor_type` instead of `feature_extractor_type`. This warning will be removed in v4.40.\n"
     ]
    },
    {
     "name": "stdout",
     "output_type": "stream",
     "text": [
      "{'score': 0.5874, 'label': 'lynx, catamount'}\n",
      "{'score': 0.1289, 'label': 'tabby, tabby cat'}\n",
      "{'score': 0.075, 'label': 'marmot'}\n",
      "{'score': 0.0382, 'label': 'badger'}\n",
      "{'score': 0.0131, 'label': 'Egyptian cat'}\n"
     ]
    }
   ],
   "source": [
    "from transformers import pipeline\n",
    "\n",
    "classifier = pipeline(task=\"image-classification\",model=\"microsoft/resnet-50\")\n",
    "\n",
    "preds = classifier(\n",
    "    \"https://hf-mirror.com/datasets/huggingface/documentation-images/resolve/main/pipeline-cat-chonk.jpeg\"\n",
    ")\n",
    "preds = [{\"score\": round(pred[\"score\"], 4), \"label\": pred[\"label\"]} for pred in preds]\n",
    "print(*preds, sep=\"\\n\")"
   ]
  },
  {
   "cell_type": "code",
   "execution_count": 40,
   "metadata": {},
   "outputs": [
    {
     "name": "stdout",
     "output_type": "stream",
     "text": [
      "{'score': 0.5874, 'label': 'lynx, catamount'}\n",
      "{'score': 0.1289, 'label': 'tabby, tabby cat'}\n",
      "{'score': 0.075, 'label': 'marmot'}\n",
      "{'score': 0.0382, 'label': 'badger'}\n",
      "{'score': 0.0131, 'label': 'Egyptian cat'}\n"
     ]
    }
   ],
   "source": [
    "# 使用本地图片（狼猫）\n",
    "preds = classifier(\n",
    "    \"data/image/cat-chonk.jpeg\"\n",
    ")\n",
    "preds = [{\"score\": round(pred[\"score\"], 4), \"label\": pred[\"label\"]} for pred in preds]\n",
    "print(*preds, sep=\"\\n\")"
   ]
  },
  {
   "cell_type": "code",
   "execution_count": 41,
   "metadata": {},
   "outputs": [
    {
     "name": "stdout",
     "output_type": "stream",
     "text": [
      "{'score': 0.9768, 'label': 'giant panda, panda, panda bear, coon bear, Ailuropoda melanoleuca'}\n",
      "{'score': 0.0088, 'label': 'indri, indris, Indri indri, Indri brevicaudatus'}\n",
      "{'score': 0.0004, 'label': 'groenendael'}\n",
      "{'score': 0.0003, 'label': 'Siberian husky'}\n",
      "{'score': 0.0002, 'label': 'malamute, malemute, Alaskan malamute'}\n"
     ]
    }
   ],
   "source": [
    "# 使用本地图片（熊猫）\n",
    "preds = classifier(\n",
    "    \"data/image/panda.jpg\"\n",
    ")\n",
    "preds = [{\"score\": round(pred[\"score\"], 4), \"label\": pred[\"label\"]} for pred in preds]\n",
    "print(*preds, sep=\"\\n\")"
   ]
  },
  {
   "cell_type": "markdown",
   "metadata": {},
   "source": [
    "![panda](data/image/panda.jpg)"
   ]
  },
  {
   "cell_type": "code",
   "execution_count": 9,
   "metadata": {},
   "outputs": [
    {
     "name": "stdout",
     "output_type": "stream",
     "text": [
      "{'score': 0.9244, 'label': 'tiger, Panthera tigris'}\n",
      "{'score': 0.0706, 'label': 'tiger cat'}\n",
      "{'score': 0.0007, 'label': 'leopard, Panthera pardus'}\n",
      "{'score': 0.0005, 'label': 'jaguar, panther, Panthera onca, Felis onca'}\n",
      "{'score': 0.0003, 'label': 'lynx, catamount'}\n"
     ]
    }
   ],
   "source": [
    "# 使用本地图片（老虎）\n",
    "preds = classifier(\n",
    "    \"data/image/lh.jpg\"\n",
    ")\n",
    "preds = [{\"score\": round(pred[\"score\"], 4), \"label\": pred[\"label\"]} for pred in preds]\n",
    "print(*preds, sep=\"\\n\")"
   ]
  },
  {
   "cell_type": "markdown",
   "metadata": {},
   "source": [
    "![watermelon](data/image/lh.jpg)"
   ]
  },
  {
   "cell_type": "markdown",
   "metadata": {},
   "source": [
    "### Object Detection"
   ]
  },
  {
   "cell_type": "code",
   "execution_count": 1,
   "metadata": {},
   "outputs": [
    {
     "name": "stderr",
     "output_type": "stream",
     "text": [
      "Request ed8c34cb-8bcc-4036-9b85-672ab5b3306c: HEAD https://hf-mirror.com/facebook/detr-resnet-101/resolve/main/config.json (authenticated: False)\n",
      "downloading https://hf-mirror.com/facebook/detr-resnet-101/resolve/main/config.json to /root/autodl-tmp/hfcache/hc/tmp4_fydjca\n",
      "Request 7ee325fe-9d4b-436a-8e35-2519f604c869: GET https://hf-mirror.com/facebook/detr-resnet-101/resolve/main/config.json (authenticated: False)\n"
     ]
    },
    {
     "data": {
      "application/vnd.jupyter.widget-view+json": {
       "model_id": "c71003006d3f4e4f95746eae78d54cde",
       "version_major": 2,
       "version_minor": 0
      },
      "text/plain": [
       "config.json:   0%|          | 0.00/1.60k [00:00<?, ?B/s]"
      ]
     },
     "metadata": {},
     "output_type": "display_data"
    },
    {
     "name": "stderr",
     "output_type": "stream",
     "text": [
      "Storing https://hf-mirror.com/facebook/detr-resnet-101/resolve/main/config.json in cache at /root/autodl-tmp/hfcache/hc/models--facebook--detr-resnet-101/blobs/96bdb8088fcb5208b496834d8814938101b392f2\n",
      "Creating pointer from ../../blobs/96bdb8088fcb5208b496834d8814938101b392f2 to /root/autodl-tmp/hfcache/hc/models--facebook--detr-resnet-101/snapshots/7d14702e444d98d0b1764824567fc2b45e1eb218/config.json\n",
      "Request 80ea1521-70b4-4cd3-9a4d-8ed76bfa8601: HEAD https://hf-mirror.com/facebook/detr-resnet-101/resolve/main/adapter_config.json (authenticated: False)\n",
      "Request 7cedc74f-4a98-483a-abf1-9be56a63fefe: HEAD https://hf-mirror.com/facebook/detr-resnet-101/resolve/main/model.safetensors (authenticated: False)\n",
      "downloading https://hf-mirror.com/facebook/detr-resnet-101/resolve/main/model.safetensors to /root/autodl-tmp/hfcache/hc/tmp7sko3i4f\n",
      "Request de2313e6-ff3d-4507-a8ef-3709139a5ee6: GET https://cdn-lfs.hf-mirror.com/facebook/detr-resnet-101/86cec5ddf787238c249f1eee18c67d403ae04bf74b062766adfcc075ae467809?response-content-disposition=attachment%3B+filename*%3DUTF-8%27%27model.safetensors%3B+filename%3D%22model.safetensors%22%3B&Expires=1712751744&Policy=eyJTdGF0ZW1lbnQiOlt7IkNvbmRpdGlvbiI6eyJEYXRlTGVzc1RoYW4iOnsiQVdTOkVwb2NoVGltZSI6MTcxMjc1MTc0NH19LCJSZXNvdXJjZSI6Imh0dHBzOi8vY2RuLWxmcy5odWdnaW5nZmFjZS5jby9mYWNlYm9vay9kZXRyLXJlc25ldC0xMDEvODZjZWM1ZGRmNzg3MjM4YzI0OWYxZWVlMThjNjdkNDAzYWUwNGJmNzRiMDYyNzY2YWRmY2MwNzVhZTQ2NzgwOT9yZXNwb25zZS1jb250ZW50LWRpc3Bvc2l0aW9uPSoifV19&Signature=UNVK4k237hiFfA2qR~2iBmDqlQPb~4dFk8sJKDaQIw1TaZfOroqWmWFXprFydUjslh9H-0OgcjRerWWQ0axg-XBDflgE8u9Ohvv8-FmH51ElwuowBg8hUFGm2xPdbeMZqHReK6QFRzR8HFAL8QYLCg~G0RMUwy73vPWt2K2LJmYK5JKevNlHgj-Ze23x6fAOwyQXEPGko1XD6aPrHGKxKDv-tcpCLPn2zzV2HN30Tvh3bo9QBpZx7VelU8D1xmRCGms0Y5WZdX40SFojuGDQASQmWWpldaXhYmC~qjs5mLrcCiWhEAxYBwCZw0ytHek~KRJYBTMPugAethyEzwTyKA__&Key-Pair-Id=KVTP0A1DKRTAX (authenticated: False)\n"
     ]
    },
    {
     "data": {
      "application/vnd.jupyter.widget-view+json": {
       "model_id": "723336af0f5945c7a2eeed9b77f6fbf5",
       "version_major": 2,
       "version_minor": 0
      },
      "text/plain": [
       "model.safetensors:   0%|          | 0.00/243M [00:00<?, ?B/s]"
      ]
     },
     "metadata": {},
     "output_type": "display_data"
    },
    {
     "name": "stderr",
     "output_type": "stream",
     "text": [
      "Storing https://hf-mirror.com/facebook/detr-resnet-101/resolve/main/model.safetensors in cache at /root/autodl-tmp/hfcache/hc/models--facebook--detr-resnet-101/blobs/86cec5ddf787238c249f1eee18c67d403ae04bf74b062766adfcc075ae467809\n",
      "Creating pointer from ../../blobs/86cec5ddf787238c249f1eee18c67d403ae04bf74b062766adfcc075ae467809 to /root/autodl-tmp/hfcache/hc/models--facebook--detr-resnet-101/snapshots/7d14702e444d98d0b1764824567fc2b45e1eb218/model.safetensors\n",
      "Request 7032aa06-c34e-4ded-be1d-f7ed3f32fb50: HEAD https://hf-mirror.com/timm/resnet101.a1h_in1k/resolve/main/model.safetensors (authenticated: False)\n",
      "downloading https://hf-mirror.com/timm/resnet101.a1h_in1k/resolve/main/model.safetensors to /root/autodl-tmp/hfcache/hc/tmp1e_gzpyg\n",
      "Request ceae3e6e-f456-4f10-b63c-6d59dcd07a65: GET https://cdn-lfs.hf-mirror.com/repos/5d/57/5d57e597cb84c8b2de8825b67d3b4ae63d9c8ff7c10686afbcbb2305badd05bc/1a076c0384295e7d3704f201c5711ff245507db934230bab72ff3014a95f90fe?response-content-disposition=attachment%3B+filename*%3DUTF-8%27%27model.safetensors%3B+filename%3D%22model.safetensors%22%3B&Expires=1712750893&Policy=eyJTdGF0ZW1lbnQiOlt7IkNvbmRpdGlvbiI6eyJEYXRlTGVzc1RoYW4iOnsiQVdTOkVwb2NoVGltZSI6MTcxMjc1MDg5M319LCJSZXNvdXJjZSI6Imh0dHBzOi8vY2RuLWxmcy5odWdnaW5nZmFjZS5jby9yZXBvcy81ZC81Ny81ZDU3ZTU5N2NiODRjOGIyZGU4ODI1YjY3ZDNiNGFlNjNkOWM4ZmY3YzEwNjg2YWZiY2JiMjMwNWJhZGQwNWJjLzFhMDc2YzAzODQyOTVlN2QzNzA0ZjIwMWM1NzExZmYyNDU1MDdkYjkzNDIzMGJhYjcyZmYzMDE0YTk1ZjkwZmU~cmVzcG9uc2UtY29udGVudC1kaXNwb3NpdGlvbj0qIn1dfQ__&Signature=MI1P3xAo1yCbNiQxNZTIfrbXBGmLeZvH0KqFOOM14sVdTgk9qYX~dvLtNR8tTFbBI58oEopa3I7fanCcsDqn8Ne~jys1EIlMNYlgQ8U2dLFOHhqd7MO6tiCu~FUbEZJRTB4GaAuNIEx1J6-pCB1JfHUJl0u0mDycocnO8b58UY7QLfckovjAFBS1TR3ibtR6ubpiniCJ82fZvkWKchnllpr3Q8zcQlQofhV989T8o25wLPHDuDqdLmaFpqRTA~RB5wGqLYpQdCouMvlzsRU1YnaxQKabg7YbXyUqBRFR1Pm6gnFxPcuMnoVT1iAQydhe7inJU58SirTfgFO17D8AVw__&Key-Pair-Id=KVTP0A1DKRTAX (authenticated: False)\n"
     ]
    },
    {
     "data": {
      "application/vnd.jupyter.widget-view+json": {
       "model_id": "dcb4bee5bc484f0798c1e093810ca869",
       "version_major": 2,
       "version_minor": 0
      },
      "text/plain": [
       "model.safetensors:   0%|          | 0.00/179M [00:00<?, ?B/s]"
      ]
     },
     "metadata": {},
     "output_type": "display_data"
    },
    {
     "name": "stderr",
     "output_type": "stream",
     "text": [
      "Storing https://hf-mirror.com/timm/resnet101.a1h_in1k/resolve/main/model.safetensors in cache at /root/autodl-tmp/hfcache/hc/models--timm--resnet101.a1h_in1k/blobs/1a076c0384295e7d3704f201c5711ff245507db934230bab72ff3014a95f90fe\n",
      "Creating pointer from ../../blobs/1a076c0384295e7d3704f201c5711ff245507db934230bab72ff3014a95f90fe to /root/autodl-tmp/hfcache/hc/models--timm--resnet101.a1h_in1k/snapshots/206c3ea2edd39025c8651d1606d36290c1ab61d5/model.safetensors\n",
      "Some weights of the model checkpoint at facebook/detr-resnet-101 were not used when initializing DetrForObjectDetection: ['model.backbone.conv_encoder.model.layer1.0.downsample.1.num_batches_tracked', 'model.backbone.conv_encoder.model.layer2.0.downsample.1.num_batches_tracked', 'model.backbone.conv_encoder.model.layer3.0.downsample.1.num_batches_tracked', 'model.backbone.conv_encoder.model.layer4.0.downsample.1.num_batches_tracked']\n",
      "- This IS expected if you are initializing DetrForObjectDetection from the checkpoint of a model trained on another task or with another architecture (e.g. initializing a BertForSequenceClassification model from a BertForPreTraining model).\n",
      "- This IS NOT expected if you are initializing DetrForObjectDetection from the checkpoint of a model that you expect to be exactly identical (initializing a BertForSequenceClassification model from a BertForSequenceClassification model).\n",
      "Request 5cfa3ae4-9f96-4c0b-88de-f032cbbbd719: HEAD https://hf-mirror.com/facebook/detr-resnet-101/resolve/main/preprocessor_config.json (authenticated: False)\n",
      "downloading https://hf-mirror.com/facebook/detr-resnet-101/resolve/main/preprocessor_config.json to /root/autodl-tmp/hfcache/hc/tmpteuc1mg0\n",
      "Request fdbb4b7c-e4bb-40cd-8834-22f30ef2a259: GET https://hf-mirror.com/facebook/detr-resnet-101/resolve/main/preprocessor_config.json (authenticated: False)\n"
     ]
    },
    {
     "data": {
      "application/vnd.jupyter.widget-view+json": {
       "model_id": "b14b1d4484c14a9b99b8859b3ae4d382",
       "version_major": 2,
       "version_minor": 0
      },
      "text/plain": [
       "preprocessor_config.json:   0%|          | 0.00/255 [00:00<?, ?B/s]"
      ]
     },
     "metadata": {},
     "output_type": "display_data"
    },
    {
     "name": "stderr",
     "output_type": "stream",
     "text": [
      "Storing https://hf-mirror.com/facebook/detr-resnet-101/resolve/main/preprocessor_config.json in cache at /root/autodl-tmp/hfcache/hc/models--facebook--detr-resnet-101/blobs/9e522662366c72f25885e6cb86bc941b99a57ea7\n",
      "Creating pointer from ../../blobs/9e522662366c72f25885e6cb86bc941b99a57ea7 to /root/autodl-tmp/hfcache/hc/models--facebook--detr-resnet-101/snapshots/7d14702e444d98d0b1764824567fc2b45e1eb218/preprocessor_config.json\n",
      "Creating pointer from ../../blobs/9e522662366c72f25885e6cb86bc941b99a57ea7 to /root/autodl-tmp/hfcache/hc/models--facebook--detr-resnet-101/snapshots/7d14702e444d98d0b1764824567fc2b45e1eb218/preprocessor_config.json\n"
     ]
    }
   ],
   "source": [
    "from transformers import pipeline\n",
    "\n",
    "detector = pipeline(task=\"object-detection\",model=\"facebook/detr-resnet-101\")"
   ]
  },
  {
   "cell_type": "code",
   "execution_count": 2,
   "metadata": {},
   "outputs": [
    {
     "ename": "KeyboardInterrupt",
     "evalue": "",
     "output_type": "error",
     "traceback": [
      "\u001b[0;31m---------------------------------------------------------------------------\u001b[0m",
      "\u001b[0;31mKeyboardInterrupt\u001b[0m                         Traceback (most recent call last)",
      "Cell \u001b[0;32mIn[2], line 1\u001b[0m\n\u001b[0;32m----> 1\u001b[0m preds \u001b[38;5;241m=\u001b[39m \u001b[43mdetector\u001b[49m\u001b[43m(\u001b[49m\n\u001b[1;32m      2\u001b[0m \u001b[43m    \u001b[49m\u001b[38;5;124;43m\"\u001b[39;49m\u001b[38;5;124;43mhttps://hf-mirror.com/datasets/huggingface/documentation-images/resolve/main/pipeline-cat-chonk.jpeg\u001b[39;49m\u001b[38;5;124;43m\"\u001b[39;49m\n\u001b[1;32m      3\u001b[0m \u001b[43m)\u001b[49m\n\u001b[1;32m      4\u001b[0m preds \u001b[38;5;241m=\u001b[39m [{\u001b[38;5;124m\"\u001b[39m\u001b[38;5;124mscore\u001b[39m\u001b[38;5;124m\"\u001b[39m: \u001b[38;5;28mround\u001b[39m(pred[\u001b[38;5;124m\"\u001b[39m\u001b[38;5;124mscore\u001b[39m\u001b[38;5;124m\"\u001b[39m], \u001b[38;5;241m4\u001b[39m), \u001b[38;5;124m\"\u001b[39m\u001b[38;5;124mlabel\u001b[39m\u001b[38;5;124m\"\u001b[39m: pred[\u001b[38;5;124m\"\u001b[39m\u001b[38;5;124mlabel\u001b[39m\u001b[38;5;124m\"\u001b[39m], \u001b[38;5;124m\"\u001b[39m\u001b[38;5;124mbox\u001b[39m\u001b[38;5;124m\"\u001b[39m: pred[\u001b[38;5;124m\"\u001b[39m\u001b[38;5;124mbox\u001b[39m\u001b[38;5;124m\"\u001b[39m]} \u001b[38;5;28;01mfor\u001b[39;00m pred \u001b[38;5;129;01min\u001b[39;00m preds]\n\u001b[1;32m      5\u001b[0m preds\n",
      "File \u001b[0;32m~/autodl-tmp/transformers/src/transformers/pipelines/object_detection.py:104\u001b[0m, in \u001b[0;36mObjectDetectionPipeline.__call__\u001b[0;34m(self, *args, **kwargs)\u001b[0m\n\u001b[1;32m     72\u001b[0m \u001b[38;5;28;01mdef\u001b[39;00m \u001b[38;5;21m__call__\u001b[39m(\u001b[38;5;28mself\u001b[39m, \u001b[38;5;241m*\u001b[39margs, \u001b[38;5;241m*\u001b[39m\u001b[38;5;241m*\u001b[39mkwargs) \u001b[38;5;241m-\u001b[39m\u001b[38;5;241m>\u001b[39m Union[Predictions, List[Prediction]]:\n\u001b[1;32m     73\u001b[0m \u001b[38;5;250m    \u001b[39m\u001b[38;5;124;03m\"\"\"\u001b[39;00m\n\u001b[1;32m     74\u001b[0m \u001b[38;5;124;03m    Detect objects (bounding boxes & classes) in the image(s) passed as inputs.\u001b[39;00m\n\u001b[1;32m     75\u001b[0m \n\u001b[0;32m   (...)\u001b[0m\n\u001b[1;32m    101\u001b[0m \u001b[38;5;124;03m        - **box** (`List[Dict[str, int]]`) -- The bounding box of detected object in image's original size.\u001b[39;00m\n\u001b[1;32m    102\u001b[0m \u001b[38;5;124;03m    \"\"\"\u001b[39;00m\n\u001b[0;32m--> 104\u001b[0m     \u001b[38;5;28;01mreturn\u001b[39;00m \u001b[38;5;28;43msuper\u001b[39;49m\u001b[43m(\u001b[49m\u001b[43m)\u001b[49m\u001b[38;5;241;43m.\u001b[39;49m\u001b[38;5;21;43m__call__\u001b[39;49m\u001b[43m(\u001b[49m\u001b[38;5;241;43m*\u001b[39;49m\u001b[43margs\u001b[49m\u001b[43m,\u001b[49m\u001b[43m \u001b[49m\u001b[38;5;241;43m*\u001b[39;49m\u001b[38;5;241;43m*\u001b[39;49m\u001b[43mkwargs\u001b[49m\u001b[43m)\u001b[49m\n",
      "File \u001b[0;32m~/autodl-tmp/transformers/src/transformers/pipelines/base.py:1217\u001b[0m, in \u001b[0;36mPipeline.__call__\u001b[0;34m(self, inputs, num_workers, batch_size, *args, **kwargs)\u001b[0m\n\u001b[1;32m   1209\u001b[0m     \u001b[38;5;28;01mreturn\u001b[39;00m \u001b[38;5;28mnext\u001b[39m(\n\u001b[1;32m   1210\u001b[0m         \u001b[38;5;28miter\u001b[39m(\n\u001b[1;32m   1211\u001b[0m             \u001b[38;5;28mself\u001b[39m\u001b[38;5;241m.\u001b[39mget_iterator(\n\u001b[0;32m   (...)\u001b[0m\n\u001b[1;32m   1214\u001b[0m         )\n\u001b[1;32m   1215\u001b[0m     )\n\u001b[1;32m   1216\u001b[0m \u001b[38;5;28;01melse\u001b[39;00m:\n\u001b[0;32m-> 1217\u001b[0m     \u001b[38;5;28;01mreturn\u001b[39;00m \u001b[38;5;28;43mself\u001b[39;49m\u001b[38;5;241;43m.\u001b[39;49m\u001b[43mrun_single\u001b[49m\u001b[43m(\u001b[49m\u001b[43minputs\u001b[49m\u001b[43m,\u001b[49m\u001b[43m \u001b[49m\u001b[43mpreprocess_params\u001b[49m\u001b[43m,\u001b[49m\u001b[43m \u001b[49m\u001b[43mforward_params\u001b[49m\u001b[43m,\u001b[49m\u001b[43m \u001b[49m\u001b[43mpostprocess_params\u001b[49m\u001b[43m)\u001b[49m\n",
      "File \u001b[0;32m~/autodl-tmp/transformers/src/transformers/pipelines/base.py:1223\u001b[0m, in \u001b[0;36mPipeline.run_single\u001b[0;34m(self, inputs, preprocess_params, forward_params, postprocess_params)\u001b[0m\n\u001b[1;32m   1222\u001b[0m \u001b[38;5;28;01mdef\u001b[39;00m \u001b[38;5;21mrun_single\u001b[39m(\u001b[38;5;28mself\u001b[39m, inputs, preprocess_params, forward_params, postprocess_params):\n\u001b[0;32m-> 1223\u001b[0m     model_inputs \u001b[38;5;241m=\u001b[39m \u001b[38;5;28;43mself\u001b[39;49m\u001b[38;5;241;43m.\u001b[39;49m\u001b[43mpreprocess\u001b[49m\u001b[43m(\u001b[49m\u001b[43minputs\u001b[49m\u001b[43m,\u001b[49m\u001b[43m \u001b[49m\u001b[38;5;241;43m*\u001b[39;49m\u001b[38;5;241;43m*\u001b[39;49m\u001b[43mpreprocess_params\u001b[49m\u001b[43m)\u001b[49m\n\u001b[1;32m   1224\u001b[0m     model_outputs \u001b[38;5;241m=\u001b[39m \u001b[38;5;28mself\u001b[39m\u001b[38;5;241m.\u001b[39mforward(model_inputs, \u001b[38;5;241m*\u001b[39m\u001b[38;5;241m*\u001b[39mforward_params)\n\u001b[1;32m   1225\u001b[0m     outputs \u001b[38;5;241m=\u001b[39m \u001b[38;5;28mself\u001b[39m\u001b[38;5;241m.\u001b[39mpostprocess(model_outputs, \u001b[38;5;241m*\u001b[39m\u001b[38;5;241m*\u001b[39mpostprocess_params)\n",
      "File \u001b[0;32m~/autodl-tmp/transformers/src/transformers/pipelines/object_detection.py:107\u001b[0m, in \u001b[0;36mObjectDetectionPipeline.preprocess\u001b[0;34m(self, image, timeout)\u001b[0m\n\u001b[1;32m    106\u001b[0m \u001b[38;5;28;01mdef\u001b[39;00m \u001b[38;5;21mpreprocess\u001b[39m(\u001b[38;5;28mself\u001b[39m, image, timeout\u001b[38;5;241m=\u001b[39m\u001b[38;5;28;01mNone\u001b[39;00m):\n\u001b[0;32m--> 107\u001b[0m     image \u001b[38;5;241m=\u001b[39m \u001b[43mload_image\u001b[49m\u001b[43m(\u001b[49m\u001b[43mimage\u001b[49m\u001b[43m,\u001b[49m\u001b[43m \u001b[49m\u001b[43mtimeout\u001b[49m\u001b[38;5;241;43m=\u001b[39;49m\u001b[43mtimeout\u001b[49m\u001b[43m)\u001b[49m\n\u001b[1;32m    108\u001b[0m     target_size \u001b[38;5;241m=\u001b[39m torch\u001b[38;5;241m.\u001b[39mIntTensor([[image\u001b[38;5;241m.\u001b[39mheight, image\u001b[38;5;241m.\u001b[39mwidth]])\n\u001b[1;32m    109\u001b[0m     inputs \u001b[38;5;241m=\u001b[39m \u001b[38;5;28mself\u001b[39m\u001b[38;5;241m.\u001b[39mimage_processor(images\u001b[38;5;241m=\u001b[39m[image], return_tensors\u001b[38;5;241m=\u001b[39m\u001b[38;5;124m\"\u001b[39m\u001b[38;5;124mpt\u001b[39m\u001b[38;5;124m\"\u001b[39m)\n",
      "File \u001b[0;32m~/autodl-tmp/transformers/src/transformers/image_utils.py:314\u001b[0m, in \u001b[0;36mload_image\u001b[0;34m(image, timeout)\u001b[0m\n\u001b[1;32m    310\u001b[0m \u001b[38;5;28;01mif\u001b[39;00m \u001b[38;5;28misinstance\u001b[39m(image, \u001b[38;5;28mstr\u001b[39m):\n\u001b[1;32m    311\u001b[0m     \u001b[38;5;28;01mif\u001b[39;00m image\u001b[38;5;241m.\u001b[39mstartswith(\u001b[38;5;124m\"\u001b[39m\u001b[38;5;124mhttp://\u001b[39m\u001b[38;5;124m\"\u001b[39m) \u001b[38;5;129;01mor\u001b[39;00m image\u001b[38;5;241m.\u001b[39mstartswith(\u001b[38;5;124m\"\u001b[39m\u001b[38;5;124mhttps://\u001b[39m\u001b[38;5;124m\"\u001b[39m):\n\u001b[1;32m    312\u001b[0m         \u001b[38;5;66;03m# We need to actually check for a real protocol, otherwise it's impossible to use a local file\u001b[39;00m\n\u001b[1;32m    313\u001b[0m         \u001b[38;5;66;03m# like http_huggingface_co.png\u001b[39;00m\n\u001b[0;32m--> 314\u001b[0m         image \u001b[38;5;241m=\u001b[39m PIL\u001b[38;5;241m.\u001b[39mImage\u001b[38;5;241m.\u001b[39mopen(\u001b[43mrequests\u001b[49m\u001b[38;5;241;43m.\u001b[39;49m\u001b[43mget\u001b[49m\u001b[43m(\u001b[49m\u001b[43mimage\u001b[49m\u001b[43m,\u001b[49m\u001b[43m \u001b[49m\u001b[43mstream\u001b[49m\u001b[38;5;241;43m=\u001b[39;49m\u001b[38;5;28;43;01mTrue\u001b[39;49;00m\u001b[43m,\u001b[49m\u001b[43m \u001b[49m\u001b[43mtimeout\u001b[49m\u001b[38;5;241;43m=\u001b[39;49m\u001b[43mtimeout\u001b[49m\u001b[43m)\u001b[49m\u001b[38;5;241m.\u001b[39mraw)\n\u001b[1;32m    315\u001b[0m     \u001b[38;5;28;01melif\u001b[39;00m os\u001b[38;5;241m.\u001b[39mpath\u001b[38;5;241m.\u001b[39misfile(image):\n\u001b[1;32m    316\u001b[0m         image \u001b[38;5;241m=\u001b[39m PIL\u001b[38;5;241m.\u001b[39mImage\u001b[38;5;241m.\u001b[39mopen(image)\n",
      "File \u001b[0;32m~/miniconda3/envs/deepspeed/lib/python3.10/site-packages/requests/api.py:73\u001b[0m, in \u001b[0;36mget\u001b[0;34m(url, params, **kwargs)\u001b[0m\n\u001b[1;32m     62\u001b[0m \u001b[38;5;28;01mdef\u001b[39;00m \u001b[38;5;21mget\u001b[39m(url, params\u001b[38;5;241m=\u001b[39m\u001b[38;5;28;01mNone\u001b[39;00m, \u001b[38;5;241m*\u001b[39m\u001b[38;5;241m*\u001b[39mkwargs):\n\u001b[1;32m     63\u001b[0m \u001b[38;5;250m    \u001b[39m\u001b[38;5;124mr\u001b[39m\u001b[38;5;124;03m\"\"\"Sends a GET request.\u001b[39;00m\n\u001b[1;32m     64\u001b[0m \n\u001b[1;32m     65\u001b[0m \u001b[38;5;124;03m    :param url: URL for the new :class:`Request` object.\u001b[39;00m\n\u001b[0;32m   (...)\u001b[0m\n\u001b[1;32m     70\u001b[0m \u001b[38;5;124;03m    :rtype: requests.Response\u001b[39;00m\n\u001b[1;32m     71\u001b[0m \u001b[38;5;124;03m    \"\"\"\u001b[39;00m\n\u001b[0;32m---> 73\u001b[0m     \u001b[38;5;28;01mreturn\u001b[39;00m \u001b[43mrequest\u001b[49m\u001b[43m(\u001b[49m\u001b[38;5;124;43m\"\u001b[39;49m\u001b[38;5;124;43mget\u001b[39;49m\u001b[38;5;124;43m\"\u001b[39;49m\u001b[43m,\u001b[49m\u001b[43m \u001b[49m\u001b[43murl\u001b[49m\u001b[43m,\u001b[49m\u001b[43m \u001b[49m\u001b[43mparams\u001b[49m\u001b[38;5;241;43m=\u001b[39;49m\u001b[43mparams\u001b[49m\u001b[43m,\u001b[49m\u001b[43m \u001b[49m\u001b[38;5;241;43m*\u001b[39;49m\u001b[38;5;241;43m*\u001b[39;49m\u001b[43mkwargs\u001b[49m\u001b[43m)\u001b[49m\n",
      "File \u001b[0;32m~/miniconda3/envs/deepspeed/lib/python3.10/site-packages/requests/api.py:59\u001b[0m, in \u001b[0;36mrequest\u001b[0;34m(method, url, **kwargs)\u001b[0m\n\u001b[1;32m     55\u001b[0m \u001b[38;5;66;03m# By using the 'with' statement we are sure the session is closed, thus we\u001b[39;00m\n\u001b[1;32m     56\u001b[0m \u001b[38;5;66;03m# avoid leaving sockets open which can trigger a ResourceWarning in some\u001b[39;00m\n\u001b[1;32m     57\u001b[0m \u001b[38;5;66;03m# cases, and look like a memory leak in others.\u001b[39;00m\n\u001b[1;32m     58\u001b[0m \u001b[38;5;28;01mwith\u001b[39;00m sessions\u001b[38;5;241m.\u001b[39mSession() \u001b[38;5;28;01mas\u001b[39;00m session:\n\u001b[0;32m---> 59\u001b[0m     \u001b[38;5;28;01mreturn\u001b[39;00m \u001b[43msession\u001b[49m\u001b[38;5;241;43m.\u001b[39;49m\u001b[43mrequest\u001b[49m\u001b[43m(\u001b[49m\u001b[43mmethod\u001b[49m\u001b[38;5;241;43m=\u001b[39;49m\u001b[43mmethod\u001b[49m\u001b[43m,\u001b[49m\u001b[43m \u001b[49m\u001b[43murl\u001b[49m\u001b[38;5;241;43m=\u001b[39;49m\u001b[43murl\u001b[49m\u001b[43m,\u001b[49m\u001b[43m \u001b[49m\u001b[38;5;241;43m*\u001b[39;49m\u001b[38;5;241;43m*\u001b[39;49m\u001b[43mkwargs\u001b[49m\u001b[43m)\u001b[49m\n",
      "File \u001b[0;32m~/miniconda3/envs/deepspeed/lib/python3.10/site-packages/requests/sessions.py:589\u001b[0m, in \u001b[0;36mSession.request\u001b[0;34m(self, method, url, params, data, headers, cookies, files, auth, timeout, allow_redirects, proxies, hooks, stream, verify, cert, json)\u001b[0m\n\u001b[1;32m    584\u001b[0m send_kwargs \u001b[38;5;241m=\u001b[39m {\n\u001b[1;32m    585\u001b[0m     \u001b[38;5;124m\"\u001b[39m\u001b[38;5;124mtimeout\u001b[39m\u001b[38;5;124m\"\u001b[39m: timeout,\n\u001b[1;32m    586\u001b[0m     \u001b[38;5;124m\"\u001b[39m\u001b[38;5;124mallow_redirects\u001b[39m\u001b[38;5;124m\"\u001b[39m: allow_redirects,\n\u001b[1;32m    587\u001b[0m }\n\u001b[1;32m    588\u001b[0m send_kwargs\u001b[38;5;241m.\u001b[39mupdate(settings)\n\u001b[0;32m--> 589\u001b[0m resp \u001b[38;5;241m=\u001b[39m \u001b[38;5;28;43mself\u001b[39;49m\u001b[38;5;241;43m.\u001b[39;49m\u001b[43msend\u001b[49m\u001b[43m(\u001b[49m\u001b[43mprep\u001b[49m\u001b[43m,\u001b[49m\u001b[43m \u001b[49m\u001b[38;5;241;43m*\u001b[39;49m\u001b[38;5;241;43m*\u001b[39;49m\u001b[43msend_kwargs\u001b[49m\u001b[43m)\u001b[49m\n\u001b[1;32m    591\u001b[0m \u001b[38;5;28;01mreturn\u001b[39;00m resp\n",
      "File \u001b[0;32m~/miniconda3/envs/deepspeed/lib/python3.10/site-packages/requests/sessions.py:725\u001b[0m, in \u001b[0;36mSession.send\u001b[0;34m(self, request, **kwargs)\u001b[0m\n\u001b[1;32m    722\u001b[0m \u001b[38;5;28;01mif\u001b[39;00m allow_redirects:\n\u001b[1;32m    723\u001b[0m     \u001b[38;5;66;03m# Redirect resolving generator.\u001b[39;00m\n\u001b[1;32m    724\u001b[0m     gen \u001b[38;5;241m=\u001b[39m \u001b[38;5;28mself\u001b[39m\u001b[38;5;241m.\u001b[39mresolve_redirects(r, request, \u001b[38;5;241m*\u001b[39m\u001b[38;5;241m*\u001b[39mkwargs)\n\u001b[0;32m--> 725\u001b[0m     history \u001b[38;5;241m=\u001b[39m [resp \u001b[38;5;28;01mfor\u001b[39;00m resp \u001b[38;5;129;01min\u001b[39;00m gen]\n\u001b[1;32m    726\u001b[0m \u001b[38;5;28;01melse\u001b[39;00m:\n\u001b[1;32m    727\u001b[0m     history \u001b[38;5;241m=\u001b[39m []\n",
      "File \u001b[0;32m~/miniconda3/envs/deepspeed/lib/python3.10/site-packages/requests/sessions.py:725\u001b[0m, in \u001b[0;36m<listcomp>\u001b[0;34m(.0)\u001b[0m\n\u001b[1;32m    722\u001b[0m \u001b[38;5;28;01mif\u001b[39;00m allow_redirects:\n\u001b[1;32m    723\u001b[0m     \u001b[38;5;66;03m# Redirect resolving generator.\u001b[39;00m\n\u001b[1;32m    724\u001b[0m     gen \u001b[38;5;241m=\u001b[39m \u001b[38;5;28mself\u001b[39m\u001b[38;5;241m.\u001b[39mresolve_redirects(r, request, \u001b[38;5;241m*\u001b[39m\u001b[38;5;241m*\u001b[39mkwargs)\n\u001b[0;32m--> 725\u001b[0m     history \u001b[38;5;241m=\u001b[39m [resp \u001b[38;5;28;01mfor\u001b[39;00m resp \u001b[38;5;129;01min\u001b[39;00m gen]\n\u001b[1;32m    726\u001b[0m \u001b[38;5;28;01melse\u001b[39;00m:\n\u001b[1;32m    727\u001b[0m     history \u001b[38;5;241m=\u001b[39m []\n",
      "File \u001b[0;32m~/miniconda3/envs/deepspeed/lib/python3.10/site-packages/requests/sessions.py:266\u001b[0m, in \u001b[0;36mSessionRedirectMixin.resolve_redirects\u001b[0;34m(self, resp, req, stream, timeout, verify, cert, proxies, yield_requests, **adapter_kwargs)\u001b[0m\n\u001b[1;32m    263\u001b[0m     \u001b[38;5;28;01myield\u001b[39;00m req\n\u001b[1;32m    264\u001b[0m \u001b[38;5;28;01melse\u001b[39;00m:\n\u001b[0;32m--> 266\u001b[0m     resp \u001b[38;5;241m=\u001b[39m \u001b[38;5;28;43mself\u001b[39;49m\u001b[38;5;241;43m.\u001b[39;49m\u001b[43msend\u001b[49m\u001b[43m(\u001b[49m\n\u001b[1;32m    267\u001b[0m \u001b[43m        \u001b[49m\u001b[43mreq\u001b[49m\u001b[43m,\u001b[49m\n\u001b[1;32m    268\u001b[0m \u001b[43m        \u001b[49m\u001b[43mstream\u001b[49m\u001b[38;5;241;43m=\u001b[39;49m\u001b[43mstream\u001b[49m\u001b[43m,\u001b[49m\n\u001b[1;32m    269\u001b[0m \u001b[43m        \u001b[49m\u001b[43mtimeout\u001b[49m\u001b[38;5;241;43m=\u001b[39;49m\u001b[43mtimeout\u001b[49m\u001b[43m,\u001b[49m\n\u001b[1;32m    270\u001b[0m \u001b[43m        \u001b[49m\u001b[43mverify\u001b[49m\u001b[38;5;241;43m=\u001b[39;49m\u001b[43mverify\u001b[49m\u001b[43m,\u001b[49m\n\u001b[1;32m    271\u001b[0m \u001b[43m        \u001b[49m\u001b[43mcert\u001b[49m\u001b[38;5;241;43m=\u001b[39;49m\u001b[43mcert\u001b[49m\u001b[43m,\u001b[49m\n\u001b[1;32m    272\u001b[0m \u001b[43m        \u001b[49m\u001b[43mproxies\u001b[49m\u001b[38;5;241;43m=\u001b[39;49m\u001b[43mproxies\u001b[49m\u001b[43m,\u001b[49m\n\u001b[1;32m    273\u001b[0m \u001b[43m        \u001b[49m\u001b[43mallow_redirects\u001b[49m\u001b[38;5;241;43m=\u001b[39;49m\u001b[38;5;28;43;01mFalse\u001b[39;49;00m\u001b[43m,\u001b[49m\n\u001b[1;32m    274\u001b[0m \u001b[43m        \u001b[49m\u001b[38;5;241;43m*\u001b[39;49m\u001b[38;5;241;43m*\u001b[39;49m\u001b[43madapter_kwargs\u001b[49m\u001b[43m,\u001b[49m\n\u001b[1;32m    275\u001b[0m \u001b[43m    \u001b[49m\u001b[43m)\u001b[49m\n\u001b[1;32m    277\u001b[0m     extract_cookies_to_jar(\u001b[38;5;28mself\u001b[39m\u001b[38;5;241m.\u001b[39mcookies, prepared_request, resp\u001b[38;5;241m.\u001b[39mraw)\n\u001b[1;32m    279\u001b[0m     \u001b[38;5;66;03m# extract redirect url, if any, for the next loop\u001b[39;00m\n",
      "File \u001b[0;32m~/miniconda3/envs/deepspeed/lib/python3.10/site-packages/requests/sessions.py:703\u001b[0m, in \u001b[0;36mSession.send\u001b[0;34m(self, request, **kwargs)\u001b[0m\n\u001b[1;32m    700\u001b[0m start \u001b[38;5;241m=\u001b[39m preferred_clock()\n\u001b[1;32m    702\u001b[0m \u001b[38;5;66;03m# Send the request\u001b[39;00m\n\u001b[0;32m--> 703\u001b[0m r \u001b[38;5;241m=\u001b[39m \u001b[43madapter\u001b[49m\u001b[38;5;241;43m.\u001b[39;49m\u001b[43msend\u001b[49m\u001b[43m(\u001b[49m\u001b[43mrequest\u001b[49m\u001b[43m,\u001b[49m\u001b[43m \u001b[49m\u001b[38;5;241;43m*\u001b[39;49m\u001b[38;5;241;43m*\u001b[39;49m\u001b[43mkwargs\u001b[49m\u001b[43m)\u001b[49m\n\u001b[1;32m    705\u001b[0m \u001b[38;5;66;03m# Total elapsed time of the request (approximately)\u001b[39;00m\n\u001b[1;32m    706\u001b[0m elapsed \u001b[38;5;241m=\u001b[39m preferred_clock() \u001b[38;5;241m-\u001b[39m start\n",
      "File \u001b[0;32m~/miniconda3/envs/deepspeed/lib/python3.10/site-packages/requests/adapters.py:486\u001b[0m, in \u001b[0;36mHTTPAdapter.send\u001b[0;34m(self, request, stream, timeout, verify, cert, proxies)\u001b[0m\n\u001b[1;32m    483\u001b[0m     timeout \u001b[38;5;241m=\u001b[39m TimeoutSauce(connect\u001b[38;5;241m=\u001b[39mtimeout, read\u001b[38;5;241m=\u001b[39mtimeout)\n\u001b[1;32m    485\u001b[0m \u001b[38;5;28;01mtry\u001b[39;00m:\n\u001b[0;32m--> 486\u001b[0m     resp \u001b[38;5;241m=\u001b[39m \u001b[43mconn\u001b[49m\u001b[38;5;241;43m.\u001b[39;49m\u001b[43murlopen\u001b[49m\u001b[43m(\u001b[49m\n\u001b[1;32m    487\u001b[0m \u001b[43m        \u001b[49m\u001b[43mmethod\u001b[49m\u001b[38;5;241;43m=\u001b[39;49m\u001b[43mrequest\u001b[49m\u001b[38;5;241;43m.\u001b[39;49m\u001b[43mmethod\u001b[49m\u001b[43m,\u001b[49m\n\u001b[1;32m    488\u001b[0m \u001b[43m        \u001b[49m\u001b[43murl\u001b[49m\u001b[38;5;241;43m=\u001b[39;49m\u001b[43murl\u001b[49m\u001b[43m,\u001b[49m\n\u001b[1;32m    489\u001b[0m \u001b[43m        \u001b[49m\u001b[43mbody\u001b[49m\u001b[38;5;241;43m=\u001b[39;49m\u001b[43mrequest\u001b[49m\u001b[38;5;241;43m.\u001b[39;49m\u001b[43mbody\u001b[49m\u001b[43m,\u001b[49m\n\u001b[1;32m    490\u001b[0m \u001b[43m        \u001b[49m\u001b[43mheaders\u001b[49m\u001b[38;5;241;43m=\u001b[39;49m\u001b[43mrequest\u001b[49m\u001b[38;5;241;43m.\u001b[39;49m\u001b[43mheaders\u001b[49m\u001b[43m,\u001b[49m\n\u001b[1;32m    491\u001b[0m \u001b[43m        \u001b[49m\u001b[43mredirect\u001b[49m\u001b[38;5;241;43m=\u001b[39;49m\u001b[38;5;28;43;01mFalse\u001b[39;49;00m\u001b[43m,\u001b[49m\n\u001b[1;32m    492\u001b[0m \u001b[43m        \u001b[49m\u001b[43massert_same_host\u001b[49m\u001b[38;5;241;43m=\u001b[39;49m\u001b[38;5;28;43;01mFalse\u001b[39;49;00m\u001b[43m,\u001b[49m\n\u001b[1;32m    493\u001b[0m \u001b[43m        \u001b[49m\u001b[43mpreload_content\u001b[49m\u001b[38;5;241;43m=\u001b[39;49m\u001b[38;5;28;43;01mFalse\u001b[39;49;00m\u001b[43m,\u001b[49m\n\u001b[1;32m    494\u001b[0m \u001b[43m        \u001b[49m\u001b[43mdecode_content\u001b[49m\u001b[38;5;241;43m=\u001b[39;49m\u001b[38;5;28;43;01mFalse\u001b[39;49;00m\u001b[43m,\u001b[49m\n\u001b[1;32m    495\u001b[0m \u001b[43m        \u001b[49m\u001b[43mretries\u001b[49m\u001b[38;5;241;43m=\u001b[39;49m\u001b[38;5;28;43mself\u001b[39;49m\u001b[38;5;241;43m.\u001b[39;49m\u001b[43mmax_retries\u001b[49m\u001b[43m,\u001b[49m\n\u001b[1;32m    496\u001b[0m \u001b[43m        \u001b[49m\u001b[43mtimeout\u001b[49m\u001b[38;5;241;43m=\u001b[39;49m\u001b[43mtimeout\u001b[49m\u001b[43m,\u001b[49m\n\u001b[1;32m    497\u001b[0m \u001b[43m        \u001b[49m\u001b[43mchunked\u001b[49m\u001b[38;5;241;43m=\u001b[39;49m\u001b[43mchunked\u001b[49m\u001b[43m,\u001b[49m\n\u001b[1;32m    498\u001b[0m \u001b[43m    \u001b[49m\u001b[43m)\u001b[49m\n\u001b[1;32m    500\u001b[0m \u001b[38;5;28;01mexcept\u001b[39;00m (ProtocolError, \u001b[38;5;167;01mOSError\u001b[39;00m) \u001b[38;5;28;01mas\u001b[39;00m err:\n\u001b[1;32m    501\u001b[0m     \u001b[38;5;28;01mraise\u001b[39;00m \u001b[38;5;167;01mConnectionError\u001b[39;00m(err, request\u001b[38;5;241m=\u001b[39mrequest)\n",
      "File \u001b[0;32m~/miniconda3/envs/deepspeed/lib/python3.10/site-packages/urllib3/connectionpool.py:793\u001b[0m, in \u001b[0;36mHTTPConnectionPool.urlopen\u001b[0;34m(self, method, url, body, headers, retries, redirect, assert_same_host, timeout, pool_timeout, release_conn, chunked, body_pos, preload_content, decode_content, **response_kw)\u001b[0m\n\u001b[1;32m    790\u001b[0m response_conn \u001b[38;5;241m=\u001b[39m conn \u001b[38;5;28;01mif\u001b[39;00m \u001b[38;5;129;01mnot\u001b[39;00m release_conn \u001b[38;5;28;01melse\u001b[39;00m \u001b[38;5;28;01mNone\u001b[39;00m\n\u001b[1;32m    792\u001b[0m \u001b[38;5;66;03m# Make the request on the HTTPConnection object\u001b[39;00m\n\u001b[0;32m--> 793\u001b[0m response \u001b[38;5;241m=\u001b[39m \u001b[38;5;28;43mself\u001b[39;49m\u001b[38;5;241;43m.\u001b[39;49m\u001b[43m_make_request\u001b[49m\u001b[43m(\u001b[49m\n\u001b[1;32m    794\u001b[0m \u001b[43m    \u001b[49m\u001b[43mconn\u001b[49m\u001b[43m,\u001b[49m\n\u001b[1;32m    795\u001b[0m \u001b[43m    \u001b[49m\u001b[43mmethod\u001b[49m\u001b[43m,\u001b[49m\n\u001b[1;32m    796\u001b[0m \u001b[43m    \u001b[49m\u001b[43murl\u001b[49m\u001b[43m,\u001b[49m\n\u001b[1;32m    797\u001b[0m \u001b[43m    \u001b[49m\u001b[43mtimeout\u001b[49m\u001b[38;5;241;43m=\u001b[39;49m\u001b[43mtimeout_obj\u001b[49m\u001b[43m,\u001b[49m\n\u001b[1;32m    798\u001b[0m \u001b[43m    \u001b[49m\u001b[43mbody\u001b[49m\u001b[38;5;241;43m=\u001b[39;49m\u001b[43mbody\u001b[49m\u001b[43m,\u001b[49m\n\u001b[1;32m    799\u001b[0m \u001b[43m    \u001b[49m\u001b[43mheaders\u001b[49m\u001b[38;5;241;43m=\u001b[39;49m\u001b[43mheaders\u001b[49m\u001b[43m,\u001b[49m\n\u001b[1;32m    800\u001b[0m \u001b[43m    \u001b[49m\u001b[43mchunked\u001b[49m\u001b[38;5;241;43m=\u001b[39;49m\u001b[43mchunked\u001b[49m\u001b[43m,\u001b[49m\n\u001b[1;32m    801\u001b[0m \u001b[43m    \u001b[49m\u001b[43mretries\u001b[49m\u001b[38;5;241;43m=\u001b[39;49m\u001b[43mretries\u001b[49m\u001b[43m,\u001b[49m\n\u001b[1;32m    802\u001b[0m \u001b[43m    \u001b[49m\u001b[43mresponse_conn\u001b[49m\u001b[38;5;241;43m=\u001b[39;49m\u001b[43mresponse_conn\u001b[49m\u001b[43m,\u001b[49m\n\u001b[1;32m    803\u001b[0m \u001b[43m    \u001b[49m\u001b[43mpreload_content\u001b[49m\u001b[38;5;241;43m=\u001b[39;49m\u001b[43mpreload_content\u001b[49m\u001b[43m,\u001b[49m\n\u001b[1;32m    804\u001b[0m \u001b[43m    \u001b[49m\u001b[43mdecode_content\u001b[49m\u001b[38;5;241;43m=\u001b[39;49m\u001b[43mdecode_content\u001b[49m\u001b[43m,\u001b[49m\n\u001b[1;32m    805\u001b[0m \u001b[43m    \u001b[49m\u001b[38;5;241;43m*\u001b[39;49m\u001b[38;5;241;43m*\u001b[39;49m\u001b[43mresponse_kw\u001b[49m\u001b[43m,\u001b[49m\n\u001b[1;32m    806\u001b[0m \u001b[43m\u001b[49m\u001b[43m)\u001b[49m\n\u001b[1;32m    808\u001b[0m \u001b[38;5;66;03m# Everything went great!\u001b[39;00m\n\u001b[1;32m    809\u001b[0m clean_exit \u001b[38;5;241m=\u001b[39m \u001b[38;5;28;01mTrue\u001b[39;00m\n",
      "File \u001b[0;32m~/miniconda3/envs/deepspeed/lib/python3.10/site-packages/urllib3/connectionpool.py:467\u001b[0m, in \u001b[0;36mHTTPConnectionPool._make_request\u001b[0;34m(self, conn, method, url, body, headers, retries, timeout, chunked, response_conn, preload_content, decode_content, enforce_content_length)\u001b[0m\n\u001b[1;32m    464\u001b[0m \u001b[38;5;28;01mtry\u001b[39;00m:\n\u001b[1;32m    465\u001b[0m     \u001b[38;5;66;03m# Trigger any extra validation we need to do.\u001b[39;00m\n\u001b[1;32m    466\u001b[0m     \u001b[38;5;28;01mtry\u001b[39;00m:\n\u001b[0;32m--> 467\u001b[0m         \u001b[38;5;28;43mself\u001b[39;49m\u001b[38;5;241;43m.\u001b[39;49m\u001b[43m_validate_conn\u001b[49m\u001b[43m(\u001b[49m\u001b[43mconn\u001b[49m\u001b[43m)\u001b[49m\n\u001b[1;32m    468\u001b[0m     \u001b[38;5;28;01mexcept\u001b[39;00m (SocketTimeout, BaseSSLError) \u001b[38;5;28;01mas\u001b[39;00m e:\n\u001b[1;32m    469\u001b[0m         \u001b[38;5;28mself\u001b[39m\u001b[38;5;241m.\u001b[39m_raise_timeout(err\u001b[38;5;241m=\u001b[39me, url\u001b[38;5;241m=\u001b[39murl, timeout_value\u001b[38;5;241m=\u001b[39mconn\u001b[38;5;241m.\u001b[39mtimeout)\n",
      "File \u001b[0;32m~/miniconda3/envs/deepspeed/lib/python3.10/site-packages/urllib3/connectionpool.py:1099\u001b[0m, in \u001b[0;36mHTTPSConnectionPool._validate_conn\u001b[0;34m(self, conn)\u001b[0m\n\u001b[1;32m   1097\u001b[0m \u001b[38;5;66;03m# Force connect early to allow us to validate the connection.\u001b[39;00m\n\u001b[1;32m   1098\u001b[0m \u001b[38;5;28;01mif\u001b[39;00m conn\u001b[38;5;241m.\u001b[39mis_closed:\n\u001b[0;32m-> 1099\u001b[0m     \u001b[43mconn\u001b[49m\u001b[38;5;241;43m.\u001b[39;49m\u001b[43mconnect\u001b[49m\u001b[43m(\u001b[49m\u001b[43m)\u001b[49m\n\u001b[1;32m   1101\u001b[0m \u001b[38;5;66;03m# TODO revise this, see https://github.com/urllib3/urllib3/issues/2791\u001b[39;00m\n\u001b[1;32m   1102\u001b[0m \u001b[38;5;28;01mif\u001b[39;00m \u001b[38;5;129;01mnot\u001b[39;00m conn\u001b[38;5;241m.\u001b[39mis_verified \u001b[38;5;129;01mand\u001b[39;00m \u001b[38;5;129;01mnot\u001b[39;00m conn\u001b[38;5;241m.\u001b[39mproxy_is_verified:\n",
      "File \u001b[0;32m~/miniconda3/envs/deepspeed/lib/python3.10/site-packages/urllib3/connection.py:616\u001b[0m, in \u001b[0;36mHTTPSConnection.connect\u001b[0;34m(self)\u001b[0m\n\u001b[1;32m    614\u001b[0m \u001b[38;5;28;01mdef\u001b[39;00m \u001b[38;5;21mconnect\u001b[39m(\u001b[38;5;28mself\u001b[39m) \u001b[38;5;241m-\u001b[39m\u001b[38;5;241m>\u001b[39m \u001b[38;5;28;01mNone\u001b[39;00m:\n\u001b[1;32m    615\u001b[0m     sock: socket\u001b[38;5;241m.\u001b[39msocket \u001b[38;5;241m|\u001b[39m ssl\u001b[38;5;241m.\u001b[39mSSLSocket\n\u001b[0;32m--> 616\u001b[0m     \u001b[38;5;28mself\u001b[39m\u001b[38;5;241m.\u001b[39msock \u001b[38;5;241m=\u001b[39m sock \u001b[38;5;241m=\u001b[39m \u001b[38;5;28;43mself\u001b[39;49m\u001b[38;5;241;43m.\u001b[39;49m\u001b[43m_new_conn\u001b[49m\u001b[43m(\u001b[49m\u001b[43m)\u001b[49m\n\u001b[1;32m    617\u001b[0m     server_hostname: \u001b[38;5;28mstr\u001b[39m \u001b[38;5;241m=\u001b[39m \u001b[38;5;28mself\u001b[39m\u001b[38;5;241m.\u001b[39mhost\n\u001b[1;32m    618\u001b[0m     tls_in_tls \u001b[38;5;241m=\u001b[39m \u001b[38;5;28;01mFalse\u001b[39;00m\n",
      "File \u001b[0;32m~/miniconda3/envs/deepspeed/lib/python3.10/site-packages/urllib3/connection.py:198\u001b[0m, in \u001b[0;36mHTTPConnection._new_conn\u001b[0;34m(self)\u001b[0m\n\u001b[1;32m    193\u001b[0m \u001b[38;5;250m\u001b[39m\u001b[38;5;124;03m\"\"\"Establish a socket connection and set nodelay settings on it.\u001b[39;00m\n\u001b[1;32m    194\u001b[0m \n\u001b[1;32m    195\u001b[0m \u001b[38;5;124;03m:return: New socket connection.\u001b[39;00m\n\u001b[1;32m    196\u001b[0m \u001b[38;5;124;03m\"\"\"\u001b[39;00m\n\u001b[1;32m    197\u001b[0m \u001b[38;5;28;01mtry\u001b[39;00m:\n\u001b[0;32m--> 198\u001b[0m     sock \u001b[38;5;241m=\u001b[39m \u001b[43mconnection\u001b[49m\u001b[38;5;241;43m.\u001b[39;49m\u001b[43mcreate_connection\u001b[49m\u001b[43m(\u001b[49m\n\u001b[1;32m    199\u001b[0m \u001b[43m        \u001b[49m\u001b[43m(\u001b[49m\u001b[38;5;28;43mself\u001b[39;49m\u001b[38;5;241;43m.\u001b[39;49m\u001b[43m_dns_host\u001b[49m\u001b[43m,\u001b[49m\u001b[43m \u001b[49m\u001b[38;5;28;43mself\u001b[39;49m\u001b[38;5;241;43m.\u001b[39;49m\u001b[43mport\u001b[49m\u001b[43m)\u001b[49m\u001b[43m,\u001b[49m\n\u001b[1;32m    200\u001b[0m \u001b[43m        \u001b[49m\u001b[38;5;28;43mself\u001b[39;49m\u001b[38;5;241;43m.\u001b[39;49m\u001b[43mtimeout\u001b[49m\u001b[43m,\u001b[49m\n\u001b[1;32m    201\u001b[0m \u001b[43m        \u001b[49m\u001b[43msource_address\u001b[49m\u001b[38;5;241;43m=\u001b[39;49m\u001b[38;5;28;43mself\u001b[39;49m\u001b[38;5;241;43m.\u001b[39;49m\u001b[43msource_address\u001b[49m\u001b[43m,\u001b[49m\n\u001b[1;32m    202\u001b[0m \u001b[43m        \u001b[49m\u001b[43msocket_options\u001b[49m\u001b[38;5;241;43m=\u001b[39;49m\u001b[38;5;28;43mself\u001b[39;49m\u001b[38;5;241;43m.\u001b[39;49m\u001b[43msocket_options\u001b[49m\u001b[43m,\u001b[49m\n\u001b[1;32m    203\u001b[0m \u001b[43m    \u001b[49m\u001b[43m)\u001b[49m\n\u001b[1;32m    204\u001b[0m \u001b[38;5;28;01mexcept\u001b[39;00m socket\u001b[38;5;241m.\u001b[39mgaierror \u001b[38;5;28;01mas\u001b[39;00m e:\n\u001b[1;32m    205\u001b[0m     \u001b[38;5;28;01mraise\u001b[39;00m NameResolutionError(\u001b[38;5;28mself\u001b[39m\u001b[38;5;241m.\u001b[39mhost, \u001b[38;5;28mself\u001b[39m, e) \u001b[38;5;28;01mfrom\u001b[39;00m \u001b[38;5;21;01me\u001b[39;00m\n",
      "File \u001b[0;32m~/miniconda3/envs/deepspeed/lib/python3.10/site-packages/urllib3/util/connection.py:73\u001b[0m, in \u001b[0;36mcreate_connection\u001b[0;34m(address, timeout, source_address, socket_options)\u001b[0m\n\u001b[1;32m     71\u001b[0m \u001b[38;5;28;01mif\u001b[39;00m source_address:\n\u001b[1;32m     72\u001b[0m     sock\u001b[38;5;241m.\u001b[39mbind(source_address)\n\u001b[0;32m---> 73\u001b[0m \u001b[43msock\u001b[49m\u001b[38;5;241;43m.\u001b[39;49m\u001b[43mconnect\u001b[49m\u001b[43m(\u001b[49m\u001b[43msa\u001b[49m\u001b[43m)\u001b[49m\n\u001b[1;32m     74\u001b[0m \u001b[38;5;66;03m# Break explicitly a reference cycle\u001b[39;00m\n\u001b[1;32m     75\u001b[0m err \u001b[38;5;241m=\u001b[39m \u001b[38;5;28;01mNone\u001b[39;00m\n",
      "\u001b[0;31mKeyboardInterrupt\u001b[0m: "
     ]
    }
   ],
   "source": [
    "preds = detector(\n",
    "    \"https://hf-mirror.com/datasets/huggingface/documentation-images/resolve/main/pipeline-cat-chonk.jpeg\"\n",
    ")\n",
    "preds = [{\"score\": round(pred[\"score\"], 4), \"label\": pred[\"label\"], \"box\": pred[\"box\"]} for pred in preds]\n",
    "preds"
   ]
  },
  {
   "cell_type": "code",
   "execution_count": 3,
   "metadata": {},
   "outputs": [
    {
     "data": {
      "text/plain": [
       "[{'score': 0.9987,\n",
       "  'label': 'dog',\n",
       "  'box': {'xmin': 281, 'ymin': 21, 'xmax': 486, 'ymax': 415}},\n",
       " {'score': 0.995,\n",
       "  'label': 'cat',\n",
       "  'box': {'xmin': 76, 'ymin': 63, 'xmax': 314, 'ymax': 373}}]"
      ]
     },
     "execution_count": 3,
     "metadata": {},
     "output_type": "execute_result"
    }
   ],
   "source": [
    "preds = detector(\n",
    "    \"data/image/cat_dog.jpg\"\n",
    ")\n",
    "preds = [{\"score\": round(pred[\"score\"], 4), \"label\": pred[\"label\"], \"box\": pred[\"box\"]} for pred in preds]\n",
    "preds"
   ]
  }
 ],
 "metadata": {
  "kernelspec": {
   "display_name": "deepspeed",
   "language": "python",
   "name": "python3"
  },
  "language_info": {
   "codemirror_mode": {
    "name": "ipython",
    "version": 3
   },
   "file_extension": ".py",
   "mimetype": "text/x-python",
   "name": "python",
   "nbconvert_exporter": "python",
   "pygments_lexer": "ipython3",
   "version": "3.10.13"
  }
 },
 "nbformat": 4,
 "nbformat_minor": 2
}

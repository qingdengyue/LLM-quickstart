{
 "cells": [
  {
   "cell_type": "code",
   "execution_count": 3,
   "metadata": {},
   "outputs": [],
   "source": [
    "import json\n",
    "with open('AdvertiseGen/train.json', 'r', encoding='utf-8') as f_in, open('train.json', 'w', encoding='utf-8') as f_out:\n",
    "    # 逐行读取原始文件内容\n",
    "    for line in f_in:\n",
    "        # 去除每行两侧的多余空白符\n",
    "        line = line.strip()\n",
    "        # 如果行为空，则跳过\n",
    "        if not line:\n",
    "            continue\n",
    "        # 解析JSON格式的数据\n",
    "        data = json.loads(line)\n",
    "        # 提取content和summary内容\n",
    "        content = data[\"content\"]\n",
    "        summary = data[\"summary\"]\n",
    "        # 格式化为目标格式\n",
    "        formatted_data = {\n",
    "            \"conversations\": [\n",
    "                {\"role\": \"user\", \"content\": content},\n",
    "                {\"role\": \"assistant\", \"content\": summary}\n",
    "            ]\n",
    "        }\n",
    "        # 将格式化后的数据写入目标文件\n",
    "        f_out.write(json.dumps(formatted_data, ensure_ascii=False) + \"\\n\")"
   ]
  }
 ],
 "metadata": {
  "kernelspec": {
   "display_name": "deepspeed",
   "language": "python",
   "name": "python3"
  },
  "language_info": {
   "codemirror_mode": {
    "name": "ipython",
    "version": 3
   },
   "file_extension": ".py",
   "mimetype": "text/x-python",
   "name": "python",
   "nbconvert_exporter": "python",
   "pygments_lexer": "ipython3",
   "version": "3.10.13"
  }
 },
 "nbformat": 4,
 "nbformat_minor": 2
}
